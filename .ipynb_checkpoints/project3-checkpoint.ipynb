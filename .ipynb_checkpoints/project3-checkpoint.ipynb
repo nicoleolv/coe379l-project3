{
 "cells": [
  {
   "cell_type": "code",
   "execution_count": 1,
   "id": "ab978369-404b-4041-ba09-1aedad219108",
   "metadata": {},
   "outputs": [],
   "source": [
    "import shutil\n",
    "# loading data into python structures\n",
    "try:\n",
    "    shutil.rmtree(\".data/dnd-cnn-split/train\")\n",
    "    shutil.rmtree(\"data/dnd-cnn-split/test\")\n",
    "except:\n",
    "    pass"
   ]
  },
  {
   "cell_type": "code",
   "execution_count": 2,
   "id": "4ceb9e78-2964-4379-bfce-ffb2d48598cf",
   "metadata": {},
   "outputs": [],
   "source": [
    "import os\n",
    "# ensure directories exist\n",
    "from pathlib import Path\n",
    "\n",
    "Path(\"data/dnd-cnn-split/train/damage\").mkdir(parents=True, exist_ok=True)\n",
    "Path(\"data/dnd-cnn-split/train/no-damage\").mkdir(parents=True, exist_ok=True)\n",
    "\n",
    "Path(\"data/dnd-cnn-split/test/damage\").mkdir(parents=True, exist_ok=True)\n",
    "Path(\"data/dnd-cnn-split/test/no-damage\").mkdir(parents=True, exist_ok=True)\n"
   ]
  },
  {
   "cell_type": "code",
   "execution_count": 3,
   "id": "07c89f08-7a51-4f0e-8e78-a5d2782ab938",
   "metadata": {},
   "outputs": [],
   "source": [
    "all_damage_file_paths = os.listdir('dataset/Project3/damage')\n",
    "all_no_damage_file_paths = os.listdir('dataset/Project3/no_damage')"
   ]
  },
  {
   "cell_type": "code",
   "execution_count": 4,
   "id": "9426a554-a179-433d-b0d8-8487fd937181",
   "metadata": {},
   "outputs": [
    {
     "name": "stdout",
     "output_type": "stream",
     "text": [
      "train damage image count:  11336\n",
      "test damage image count:  2834\n",
      "len of overlap:  0\n",
      "train no damage image count:  5721\n",
      "test no damage image count:  1431\n",
      "len of overlap:  0\n"
     ]
    }
   ],
   "source": [
    "import random\n",
    "\n",
    "train_damage_paths = random.sample(all_damage_file_paths, int(len(all_damage_file_paths)*0.8))\n",
    "print(\"train damage image count: \", len(train_damage_paths))\n",
    "test_damage_paths = [ p for p in all_damage_file_paths if p not in train_damage_paths]\n",
    "print(\"test damage image count: \", len(test_damage_paths))\n",
    "# ensure no overlap:\n",
    "overlap = [p for p in train_damage_paths if p in test_damage_paths]\n",
    "print(\"len of overlap: \", len(overlap))\n",
    "\n",
    "\n",
    "train_no_damage_paths = random.sample(all_no_damage_file_paths, int(len(all_no_damage_file_paths)*0.8))\n",
    "print(\"train no damage image count: \", len(train_no_damage_paths))\n",
    "test_no_damage_paths = [ p for p in all_no_damage_file_paths if p not in train_no_damage_paths]\n",
    "print(\"test no damage image count: \", len(test_no_damage_paths))\n",
    "# ensure no overlap:\n",
    "overlap = [p for p in train_no_damage_paths if p in test_no_damage_paths]\n",
    "print(\"len of overlap: \", len(overlap))\n"
   ]
  },
  {
   "cell_type": "code",
   "execution_count": 5,
   "id": "3ec6cd95-9c20-4cd5-be58-8db0a40f8b4e",
   "metadata": {},
   "outputs": [
    {
     "name": "stdout",
     "output_type": "stream",
     "text": [
      "Files in train/damage:  14170\n",
      "Files in train/no-damage:  7149\n",
      "Files in test/damage:  10425\n",
      "Files in test/no-damage:  5284\n"
     ]
    }
   ],
   "source": [
    "# ensure to copy the images to the directories\n",
    "import shutil\n",
    "for p in train_damage_paths:\n",
    "    shutil.copyfile(os.path.join('dataset/Project3/damage', p), os.path.join('data/dnd-cnn-split/train/damage', p) )\n",
    "\n",
    "for p in test_damage_paths:\n",
    "    shutil.copyfile(os.path.join('dataset/Project3/damage', p), os.path.join('data/dnd-cnn-split/test/damage', p) )\n",
    "\n",
    "for p in train_no_damage_paths:\n",
    "    shutil.copyfile(os.path.join('dataset/Project3/no_damage', p), os.path.join('data/dnd-cnn-split/train/no-damage', p) )\n",
    "\n",
    "for p in test_no_damage_paths:\n",
    "    shutil.copyfile(os.path.join('dataset/Project3/no_damage', p), os.path.join('data/dnd-cnn-split/test/no-damage', p) )\n",
    "\n",
    "\n",
    "\n",
    "# check counts:\n",
    "print(\"Files in train/damage: \", len(os.listdir(\"data/dnd-cnn-split/train/damage\")))\n",
    "print(\"Files in train/no-damage: \", len(os.listdir(\"data/dnd-cnn-split/train/no-damage\")))\n",
    "\n",
    "print(\"Files in test/damage: \", len(os.listdir(\"data/dnd-cnn-split/test/damage\")))\n",
    "print(\"Files in test/no-damage: \", len(os.listdir(\"data/dnd-cnn-split/test/no-damage\")))\n",
    "\n",
    "# shape of damage and no damage training/testing files\n"
   ]
  },
  {
   "cell_type": "code",
   "execution_count": 6,
   "id": "a0957bff-e5f9-4b95-b5ea-ae0867c4d361",
   "metadata": {},
   "outputs": [
    {
     "name": "stderr",
     "output_type": "stream",
     "text": [
      "2025-04-08 20:45:28.308941: I external/local_tsl/tsl/cuda/cudart_stub.cc:31] Could not find cuda drivers on your machine, GPU will not be used.\n",
      "2025-04-08 20:45:28.363467: E external/local_xla/xla/stream_executor/cuda/cuda_dnn.cc:9261] Unable to register cuDNN factory: Attempting to register factory for plugin cuDNN when one has already been registered\n",
      "2025-04-08 20:45:28.363541: E external/local_xla/xla/stream_executor/cuda/cuda_fft.cc:607] Unable to register cuFFT factory: Attempting to register factory for plugin cuFFT when one has already been registered\n",
      "2025-04-08 20:45:28.367612: E external/local_xla/xla/stream_executor/cuda/cuda_blas.cc:1515] Unable to register cuBLAS factory: Attempting to register factory for plugin cuBLAS when one has already been registered\n",
      "2025-04-08 20:45:28.384095: I external/local_tsl/tsl/cuda/cudart_stub.cc:31] Could not find cuda drivers on your machine, GPU will not be used.\n",
      "2025-04-08 20:45:28.385934: I tensorflow/core/platform/cpu_feature_guard.cc:182] This TensorFlow binary is optimized to use available CPU instructions in performance-critical operations.\n",
      "To enable the following instructions: AVX2 FMA, in other operations, rebuild TensorFlow with the appropriate compiler flags.\n",
      "2025-04-08 20:45:29.397515: W tensorflow/compiler/tf2tensorrt/utils/py_utils.cc:38] TF-TRT Warning: Could not find TensorRT\n"
     ]
    },
    {
     "name": "stdout",
     "output_type": "stream",
     "text": [
      "Found 21319 files belonging to 2 classes.\n",
      "Using 17056 files for training.\n",
      "Using 4263 files for validation.\n"
     ]
    }
   ],
   "source": [
    "import tensorflow as tf\n",
    "import tensorflow_datasets as tfds\n",
    "from tensorflow.keras.layers.experimental.preprocessing import Rescaling\n",
    "\n",
    "# path to training data\n",
    "train_data_dir = 'data/dnd-cnn-split/train'\n",
    "\n",
    "# controls the size of the \"batches\" of images streamed when accessing the datasets.\n",
    "# this is useful to control the memory usage with very large datasets\n",
    "batch_size = 32\n",
    "\n",
    "# target image size\n",
    "img_height = 150\n",
    "img_width = 150\n",
    "\n",
    "# note that the subset parameter can take values of \"training\", \"validation\", or \"both\";\n",
    "# the value dictates which dataset is returned (we want both)\n",
    "train_ds, val_ds = tf.keras.utils.image_dataset_from_directory(\n",
    "    train_data_dir,\n",
    "    validation_split=0.2,\n",
    "    subset=\"both\",\n",
    "    seed=123,\n",
    "    image_size=(img_height, img_width),\n",
    "    batch_size=batch_size\n",
    ")\n",
    "# rescale instance\n",
    "rescale = Rescaling(scale=1.0/255)\n",
    "\n",
    "# apply the rescale to the train and validation sets\n",
    "train_rescale_ds = train_ds.map(lambda image,label:(rescale(image),label))\n",
    "val_rescale_ds = val_ds.map(lambda image,label:(rescale(image),label))\n"
   ]
  },
  {
   "cell_type": "code",
   "execution_count": 7,
   "id": "e2c58571-6f2e-4522-a661-c77acdd4904e",
   "metadata": {},
   "outputs": [
    {
     "name": "stdout",
     "output_type": "stream",
     "text": [
      "Found 15709 files belonging to 2 classes.\n"
     ]
    }
   ],
   "source": [
    "# path to test data\n",
    "test_data_dir = 'data/dnd-cnn-split/test/'\n",
    "\n",
    "# we do not set subset=both here because we do not want the test set split\n",
    "test_ds = tf.keras.utils.image_dataset_from_directory(\n",
    "    test_data_dir,\n",
    "    seed=123,\n",
    "    image_size=(img_height, img_width),\n",
    ")\n",
    "\n",
    "# approach 1: manually rescale data --\n",
    "rescale = Rescaling(scale=1.0/255)\n",
    "test_rescale_ds = test_ds.map(lambda image,label:(rescale(image),label))"
   ]
  },
  {
   "cell_type": "code",
   "execution_count": 8,
   "id": "5d28f9eb-edee-48ef-9bb1-58d238e95117",
   "metadata": {},
   "outputs": [
    {
     "name": "stdout",
     "output_type": "stream",
     "text": [
      "Train batch shape: (32, 150, 150, 3)\n",
      "Train labels shape: (32,)\n"
     ]
    }
   ],
   "source": [
    "for images, labels in train_ds.take(1):  # Take one batch\n",
    "    print(\"Train batch shape:\", images.shape)  # Shape: (batch_size, height, width, channels)\n",
    "    print(\"Train labels shape:\", labels.shape)  # Shape: (batch_size,)\n"
   ]
  },
  {
   "cell_type": "code",
   "execution_count": 9,
   "id": "4b9aa123-cd03-4cfc-af22-80e0713489dd",
   "metadata": {},
   "outputs": [
    {
     "name": "stdout",
     "output_type": "stream",
     "text": [
      "Test batch shape: (32, 150, 150, 3)\n",
      "Test labels shape: (32,)\n"
     ]
    }
   ],
   "source": [
    "for images, labels in test_ds.take(1):\n",
    "    print(\"Test batch shape:\", images.shape)\n",
    "    print(\"Test labels shape:\", labels.shape)\n"
   ]
  },
  {
   "cell_type": "code",
   "execution_count": 10,
   "id": "f31f4a1e-e455-45bb-8877-7f9a51870a17",
   "metadata": {},
   "outputs": [
    {
     "name": "stdout",
     "output_type": "stream",
     "text": [
      "Label for each of the above images: [0 0 0 1 1]\n"
     ]
    },
    {
     "data": {
      "image/png": "[encoded data removed]",
      "text/plain": [
       "<Figure size 1000x200 with 5 Axes>"
      ]
     },
     "metadata": {},
     "output_type": "display_data"
    }
   ],
   "source": [
    "import matplotlib.pyplot as plt\n",
    "\n",
    "# Get one batch of images and labels from the rescaled dataset\n",
    "for images, labels in train_rescale_ds.take(1):  \n",
    "    X_train_batch = images.numpy()  # Convert to NumPy array\n",
    "    y_train_batch = labels.numpy()  # Convert labels to NumPy\n",
    "    break\n",
    "\n",
    "# Plot the first 5 images\n",
    "plt.figure(figsize=(10, 2))\n",
    "for i in range(5):\n",
    "    plt.subplot(1, 5, i+1)\n",
    "    plt.imshow(X_train_batch[i])  # No need for uint8 conversion since values are [0,1]\n",
    "    plt.axis(\"off\")\n",
    "\n",
    "print('Label for each of the above images:', y_train_batch[:5])\n"
   ]
  },
  {
   "cell_type": "code",
   "execution_count": 11,
   "id": "64457236-8aaa-4c64-af11-65df0128a316",
   "metadata": {},
   "outputs": [],
   "source": [
    "# # creating ANN model\n",
    "# def create_perceptron(dim):\n",
    "#     \"\"\"\n",
    "#     Create a perceptron of dimension `dim` and initialize it with random weights.\n",
    "#     \"\"\"\n",
    "#     # we use dim+1 because we want to have a bias term and `dim` weights\n",
    "#     return np.random.random(dim+1)"
   ]
  },
  {
   "cell_type": "code",
   "execution_count": 12,
   "id": "d5a59903-644a-44f6-beb6-8f974171fff3",
   "metadata": {},
   "outputs": [],
   "source": [
    "# def create_layer(num_perceptrons, dim, activation_function):\n",
    "#     \"\"\"\n",
    "#     Create a layer of `num_perceptrons` perceptron, each of dimension `dim` with activation function `activation_function`.\n",
    "#     Initialize the weights of all perceptrons to a random float between 0 and 1.\n",
    "#     \"\"\"\n",
    "#     # represent the layer as a list of dictionary of perceptrons\n",
    "#     layer = []\n",
    "#     for i in range(num_perceptrons):\n",
    "#         layer.append({\"weights\": create_perceptron(dim), \"activation_function\": activation_function})\n",
    "#     return layer"
   ]
  },
  {
   "cell_type": "code",
   "execution_count": 13,
   "id": "fb5631ef-ec8a-4280-83d8-68520f82f0bc",
   "metadata": {},
   "outputs": [
    {
     "name": "stdout",
     "output_type": "stream",
     "text": [
      "Model: \"sequential\"\n",
      "_________________________________________________________________\n",
      " Layer (type)                Output Shape              Param #   \n",
      "=================================================================\n",
      " flatten (Flatten)           (None, 67500)             0         \n",
      "                                                                 \n",
      " dense (Dense)               (None, 128)               8640128   \n",
      "                                                                 \n",
      " dense_1 (Dense)             (None, 1)                 129       \n",
      "                                                                 \n",
      "=================================================================\n",
      "Total params: 8640257 (32.96 MB)\n",
      "Trainable params: 8640257 (32.96 MB)\n",
      "Non-trainable params: 0 (0.00 Byte)\n",
      "_________________________________________________________________\n"
     ]
    }
   ],
   "source": [
    "# try different layers and perceptrons to choose the best combination for accuracy\n",
    "\n",
    "from tensorflow.keras.models import Sequential\n",
    "from tensorflow.keras.layers import Dense, Flatten\n",
    "from tensorflow.keras.optimizers import Adam\n",
    "\n",
    "# Define the model\n",
    "model = Sequential([\n",
    "    Flatten(input_shape=(150, 150, 3)),  # Flatten the image (150x150 RGB)\n",
    "    Dense(128, activation='relu'),  # Hidden layer with ReLU\n",
    "    Dense(1, activation='sigmoid')  # Output layer for binary classification\n",
    "])\n",
    "\n",
    "# Compile the model\n",
    "model.compile(optimizer=Adam(),\n",
    "              loss='binary_crossentropy',  # Binary classification loss\n",
    "              metrics=['accuracy'])\n",
    "\n",
    "# Print model summary\n",
    "model.summary()\n"
   ]
  },
  {
   "cell_type": "code",
   "execution_count": 14,
   "id": "49b5662e-f9fa-480d-bf6c-db7a0f8a5dd9",
   "metadata": {},
   "outputs": [
    {
     "name": "stdout",
     "output_type": "stream",
     "text": [
      "Epoch 1/15\n",
      "533/533 [==============================] - 32s 60ms/step - loss: 1.5555 - accuracy: 0.6327 - val_loss: 0.8288 - val_accuracy: 0.6207\n",
      "Epoch 2/15\n",
      "533/533 [==============================] - 32s 60ms/step - loss: 0.9501 - accuracy: 0.6594 - val_loss: 0.6068 - val_accuracy: 0.7478\n",
      "Epoch 3/15\n",
      "533/533 [==============================] - 32s 60ms/step - loss: 0.7899 - accuracy: 0.6792 - val_loss: 0.6315 - val_accuracy: 0.7227\n",
      "Epoch 4/15\n",
      "533/533 [==============================] - 32s 60ms/step - loss: 0.6031 - accuracy: 0.7149 - val_loss: 0.5809 - val_accuracy: 0.7366\n",
      "Epoch 5/15\n",
      "533/533 [==============================] - 32s 60ms/step - loss: 0.6298 - accuracy: 0.7081 - val_loss: 0.7778 - val_accuracy: 0.6695\n",
      "Epoch 6/15\n",
      "533/533 [==============================] - 32s 60ms/step - loss: 0.5642 - accuracy: 0.7296 - val_loss: 0.5486 - val_accuracy: 0.7277\n",
      "Epoch 7/15\n",
      "533/533 [==============================] - 32s 60ms/step - loss: 0.5496 - accuracy: 0.7346 - val_loss: 0.8950 - val_accuracy: 0.6549\n",
      "Epoch 8/15\n",
      "533/533 [==============================] - 32s 60ms/step - loss: 0.5480 - accuracy: 0.7364 - val_loss: 0.5654 - val_accuracy: 0.7192\n",
      "Epoch 9/15\n",
      "533/533 [==============================] - 32s 60ms/step - loss: 0.5545 - accuracy: 0.7295 - val_loss: 0.5270 - val_accuracy: 0.7638\n",
      "Epoch 10/15\n",
      "533/533 [==============================] - 33s 61ms/step - loss: 0.5445 - accuracy: 0.7370 - val_loss: 0.5374 - val_accuracy: 0.7600\n",
      "Epoch 11/15\n",
      "533/533 [==============================] - 32s 60ms/step - loss: 0.5482 - accuracy: 0.7365 - val_loss: 0.5541 - val_accuracy: 0.7246\n",
      "Epoch 12/15\n",
      "533/533 [==============================] - 32s 60ms/step - loss: 0.5417 - accuracy: 0.7419 - val_loss: 0.5740 - val_accuracy: 0.6920\n",
      "Epoch 13/15\n",
      "533/533 [==============================] - 32s 60ms/step - loss: 0.5439 - accuracy: 0.7387 - val_loss: 0.5408 - val_accuracy: 0.7384\n",
      "Epoch 14/15\n",
      "533/533 [==============================] - 32s 60ms/step - loss: 0.5379 - accuracy: 0.7468 - val_loss: 0.5586 - val_accuracy: 0.7180\n",
      "Epoch 15/15\n",
      "533/533 [==============================] - 32s 60ms/step - loss: 0.5376 - accuracy: 0.7469 - val_loss: 0.5357 - val_accuracy: 0.7455\n"
     ]
    }
   ],
   "source": [
    "# Train the model\n",
    "history = model.fit(\n",
    "    train_rescale_ds,\n",
    "    validation_data=val_rescale_ds,\n",
    "    epochs=15,  # Can be adjusted\n",
    "    batch_size=32,\n",
    "    verbose=1\n",
    ")\n"
   ]
  },
  {
   "cell_type": "code",
   "execution_count": 15,
   "id": "d8cd99e2-05d2-4011-964a-ed90b1dc7279",
   "metadata": {},
   "outputs": [
    {
     "name": "stdout",
     "output_type": "stream",
     "text": [
      "491/491 [==============================] - 3s 7ms/step - loss: 0.5205 - accuracy: 0.7608\n",
      "Test Loss: 0.5205\n",
      "Test Accuracy: 0.7608\n"
     ]
    }
   ],
   "source": [
    "# Evaluate on test set\n",
    "test_loss, test_acc = model.evaluate(test_rescale_ds)\n",
    "print(f\"Test Loss: {test_loss:.4f}\")\n",
    "print(f\"Test Accuracy: {test_acc:.4f}\")\n"
   ]
  },
  {
   "cell_type": "code",
   "execution_count": 16,
   "id": "650e2ce1-d5bb-4031-bb70-f98060fdc8c3",
   "metadata": {},
   "outputs": [
    {
     "name": "stdout",
     "output_type": "stream",
     "text": [
      "Model: \"sequential_1\"\n",
      "_________________________________________________________________\n",
      " Layer (type)                Output Shape              Param #   \n",
      "=================================================================\n",
      " flatten_1 (Flatten)         (None, 67500)             0         \n",
      "                                                                 \n",
      " dense_2 (Dense)             (None, 512)               34560512  \n",
      "                                                                 \n",
      " dense_3 (Dense)             (None, 256)               131328    \n",
      "                                                                 \n",
      " dense_4 (Dense)             (None, 1)                 257       \n",
      "                                                                 \n",
      "=================================================================\n",
      "Total params: 34692097 (132.34 MB)\n",
      "Trainable params: 34692097 (132.34 MB)\n",
      "Non-trainable params: 0 (0.00 Byte)\n",
      "_________________________________________________________________\n"
     ]
    }
   ],
   "source": [
    "from tensorflow.keras.models import Sequential\n",
    "from tensorflow.keras.layers import Dense, Flatten\n",
    "from tensorflow.keras.optimizers import Adam\n",
    "\n",
    "# Define the model\n",
    "model2 = Sequential([\n",
    "    Flatten(input_shape=(150, 150, 3)),  # Flatten the image (150x150 RGB)\n",
    "    Dense(512, activation='relu'),  # Hidden layer with ReLU\n",
    "    Dense(256, activation='relu'),   # Another hidden layer\n",
    "    Dense(1, activation='sigmoid')  # Output layer for binary classification\n",
    "])\n",
    "\n",
    "# Compile the model\n",
    "model2.compile(optimizer=Adam(),\n",
    "              loss='binary_crossentropy',  # Binary classification loss\n",
    "              metrics=['accuracy'])\n",
    "\n",
    "# Print model summary\n",
    "model2.summary()\n"
   ]
  },
  {
   "cell_type": "code",
   "execution_count": 17,
   "id": "d28f274b-9ab3-4051-a3f2-97dd1520df39",
   "metadata": {},
   "outputs": [
    {
     "name": "stdout",
     "output_type": "stream",
     "text": [
      "Epoch 1/15\n",
      "533/533 [==============================] - 114s 213ms/step - loss: 1.1787 - accuracy: 0.6424 - val_loss: 0.6353 - val_accuracy: 0.6179\n",
      "Epoch 2/15\n",
      "533/533 [==============================] - 112s 210ms/step - loss: 0.5898 - accuracy: 0.7054 - val_loss: 0.6247 - val_accuracy: 0.6371\n",
      "Epoch 3/15\n",
      "533/533 [==============================] - 111s 208ms/step - loss: 0.6015 - accuracy: 0.6816 - val_loss: 0.6515 - val_accuracy: 0.6498\n",
      "Epoch 4/15\n",
      "533/533 [==============================] - 112s 210ms/step - loss: 0.6042 - accuracy: 0.6676 - val_loss: 0.6401 - val_accuracy: 0.6498\n",
      "Epoch 5/15\n",
      "533/533 [==============================] - 111s 208ms/step - loss: 0.6215 - accuracy: 0.6648 - val_loss: 0.6457 - val_accuracy: 0.6498\n",
      "Epoch 6/15\n",
      "533/533 [==============================] - 111s 209ms/step - loss: 0.6005 - accuracy: 0.6690 - val_loss: 0.6479 - val_accuracy: 0.6498\n",
      "Epoch 7/15\n",
      "533/533 [==============================] - 111s 208ms/step - loss: 0.6115 - accuracy: 0.6684 - val_loss: 0.5800 - val_accuracy: 0.6498\n",
      "Epoch 8/15\n",
      "533/533 [==============================] - 112s 210ms/step - loss: 0.5893 - accuracy: 0.6734 - val_loss: 0.6252 - val_accuracy: 0.6711\n",
      "Epoch 9/15\n",
      "533/533 [==============================] - 111s 208ms/step - loss: 0.5838 - accuracy: 0.6913 - val_loss: 0.5654 - val_accuracy: 0.7331\n",
      "Epoch 10/15\n",
      "533/533 [==============================] - 112s 210ms/step - loss: 0.5894 - accuracy: 0.6727 - val_loss: 0.5817 - val_accuracy: 0.7260\n",
      "Epoch 11/15\n",
      "533/533 [==============================] - 111s 209ms/step - loss: 0.5805 - accuracy: 0.6934 - val_loss: 0.5807 - val_accuracy: 0.6498\n",
      "Epoch 12/15\n",
      "533/533 [==============================] - 112s 209ms/step - loss: 0.5782 - accuracy: 0.6867 - val_loss: 0.5691 - val_accuracy: 0.7363\n",
      "Epoch 13/15\n",
      "533/533 [==============================] - 111s 208ms/step - loss: 0.5750 - accuracy: 0.7173 - val_loss: 0.5597 - val_accuracy: 0.7399\n",
      "Epoch 14/15\n",
      "533/533 [==============================] - 111s 209ms/step - loss: 0.5741 - accuracy: 0.7212 - val_loss: 0.5820 - val_accuracy: 0.6993\n",
      "Epoch 15/15\n",
      "533/533 [==============================] - 111s 209ms/step - loss: 0.5701 - accuracy: 0.7227 - val_loss: 0.6154 - val_accuracy: 0.6606\n"
     ]
    }
   ],
   "source": [
    "# Train the model\n",
    "history = model2.fit(\n",
    "    train_rescale_ds,\n",
    "    validation_data=val_rescale_ds,\n",
    "    epochs=15,  # Can be adjusted\n",
    "    batch_size=32,\n",
    "    verbose=1\n",
    ")\n"
   ]
  },
  {
   "cell_type": "code",
   "execution_count": 18,
   "id": "ffd1e39a-f82c-4854-8de3-e3fb20352ec3",
   "metadata": {},
   "outputs": [
    {
     "name": "stdout",
     "output_type": "stream",
     "text": [
      "491/491 [==============================] - 7s 14ms/step - loss: 0.6020 - accuracy: 0.6725\n",
      "Test Loss: 0.6020\n",
      "Test Accuracy: 0.6725\n"
     ]
    }
   ],
   "source": [
    "# Evaluate on test set\n",
    "test_loss, test_acc = model2.evaluate(test_rescale_ds)\n",
    "print(f\"Test Loss: {test_loss:.4f}\")\n",
    "print(f\"Test Accuracy: {test_acc:.4f}\")\n"
   ]
  },
  {
   "cell_type": "code",
   "execution_count": 19,
   "id": "b200c5b1-51b9-4022-8df6-ad0852dd8c0d",
   "metadata": {},
   "outputs": [
    {
     "name": "stdout",
     "output_type": "stream",
     "text": [
      "Model: \"sequential_2\"\n",
      "_________________________________________________________________\n",
      " Layer (type)                Output Shape              Param #   \n",
      "=================================================================\n",
      " flatten_2 (Flatten)         (None, 67500)             0         \n",
      "                                                                 \n",
      " dense_5 (Dense)             (None, 512)               34560512  \n",
      "                                                                 \n",
      " dense_6 (Dense)             (None, 256)               131328    \n",
      "                                                                 \n",
      " dense_7 (Dense)             (None, 128)               32896     \n",
      "                                                                 \n",
      " dense_8 (Dense)             (None, 1)                 129       \n",
      "                                                                 \n",
      "=================================================================\n",
      "Total params: 34724865 (132.46 MB)\n",
      "Trainable params: 34724865 (132.46 MB)\n",
      "Non-trainable params: 0 (0.00 Byte)\n",
      "_________________________________________________________________\n"
     ]
    }
   ],
   "source": [
    "from tensorflow.keras.models import Sequential\n",
    "from tensorflow.keras.layers import Dense, Flatten\n",
    "from tensorflow.keras.optimizers import Adam\n",
    "\n",
    "# Define the model\n",
    "model3 = Sequential([\n",
    "    Flatten(input_shape=(150, 150, 3)),  # Flatten the image (150x150 RGB)\n",
    "    Dense(512, activation='relu'),  # Hidden layer with ReLU\n",
    "    Dense(256, activation='relu'),   # Another hidden layer\n",
    "    Dense(128, activation='relu'),   # Another hidden layer\n",
    "    Dense(1, activation='sigmoid')  # Output layer for binary classification\n",
    "])\n",
    "\n",
    "# Compile the model\n",
    "model3.compile(optimizer=Adam(),\n",
    "              loss='binary_crossentropy',  # Binary classification loss\n",
    "              metrics=['accuracy'])\n",
    "\n",
    "# Print model summary\n",
    "model3.summary()\n"
   ]
  },
  {
   "cell_type": "code",
   "execution_count": 20,
   "id": "f5ff58bf-ca54-4bf9-bb72-c7d935bb72d2",
   "metadata": {},
   "outputs": [
    {
     "name": "stdout",
     "output_type": "stream",
     "text": [
      "Epoch 1/15\n",
      "533/533 [==============================] - 112s 208ms/step - loss: 1.0217 - accuracy: 0.6513 - val_loss: 0.5930 - val_accuracy: 0.6901\n",
      "Epoch 2/15\n",
      "533/533 [==============================] - 112s 209ms/step - loss: 0.5881 - accuracy: 0.7040 - val_loss: 0.5699 - val_accuracy: 0.7054\n",
      "Epoch 3/15\n",
      "533/533 [==============================] - 112s 209ms/step - loss: 0.6219 - accuracy: 0.6783 - val_loss: 0.6477 - val_accuracy: 0.6498\n",
      "Epoch 4/15\n",
      "533/533 [==============================] - 111s 209ms/step - loss: 0.6361 - accuracy: 0.6683 - val_loss: 0.6481 - val_accuracy: 0.6498\n",
      "Epoch 5/15\n",
      "533/533 [==============================] - 110s 207ms/step - loss: 0.6354 - accuracy: 0.6684 - val_loss: 0.6480 - val_accuracy: 0.6498\n",
      "Epoch 6/15\n",
      "533/533 [==============================] - 110s 207ms/step - loss: 0.6359 - accuracy: 0.6684 - val_loss: 0.6482 - val_accuracy: 0.6498\n",
      "Epoch 7/15\n",
      "533/533 [==============================] - 111s 208ms/step - loss: 0.6356 - accuracy: 0.6684 - val_loss: 0.6477 - val_accuracy: 0.6498\n",
      "Epoch 8/15\n",
      "533/533 [==============================] - 112s 209ms/step - loss: 0.6356 - accuracy: 0.6684 - val_loss: 0.6482 - val_accuracy: 0.6498\n",
      "Epoch 9/15\n",
      "533/533 [==============================] - 110s 206ms/step - loss: 0.6356 - accuracy: 0.6684 - val_loss: 0.6483 - val_accuracy: 0.6498\n",
      "Epoch 10/15\n",
      "533/533 [==============================] - 109s 205ms/step - loss: 0.6356 - accuracy: 0.6684 - val_loss: 0.6484 - val_accuracy: 0.6498\n",
      "Epoch 11/15\n",
      "533/533 [==============================] - 111s 208ms/step - loss: 0.6359 - accuracy: 0.6674 - val_loss: 0.6480 - val_accuracy: 0.6498\n",
      "Epoch 12/15\n",
      "533/533 [==============================] - 111s 209ms/step - loss: 0.6357 - accuracy: 0.6684 - val_loss: 0.6481 - val_accuracy: 0.6498\n",
      "Epoch 13/15\n",
      "533/533 [==============================] - 112s 209ms/step - loss: 0.6356 - accuracy: 0.6684 - val_loss: 0.6480 - val_accuracy: 0.6498\n",
      "Epoch 14/15\n",
      "533/533 [==============================] - 111s 207ms/step - loss: 0.6356 - accuracy: 0.6684 - val_loss: 0.6484 - val_accuracy: 0.6498\n",
      "Epoch 15/15\n",
      "533/533 [==============================] - 111s 209ms/step - loss: 0.6356 - accuracy: 0.6684 - val_loss: 0.6481 - val_accuracy: 0.6498\n"
     ]
    }
   ],
   "source": [
    "# Train the model\n",
    "history = model3.fit(\n",
    "    train_rescale_ds,\n",
    "    validation_data=val_rescale_ds,\n",
    "    epochs=15, \n",
    "    batch_size=32,\n",
    "    verbose=1\n",
    ")\n"
   ]
  },
  {
   "cell_type": "code",
   "execution_count": 21,
   "id": "f3e534f7-9988-43c3-9b6e-216a35eaff5d",
   "metadata": {},
   "outputs": [
    {
     "name": "stdout",
     "output_type": "stream",
     "text": [
      "491/491 [==============================] - 7s 14ms/step - loss: 0.6386 - accuracy: 0.6636\n",
      "Test Loss: 0.6386\n",
      "Test Accuracy: 0.6636\n"
     ]
    }
   ],
   "source": [
    "# Evaluate on test set\n",
    "test_loss, test_acc = model3.evaluate(test_rescale_ds)\n",
    "print(f\"Test Loss: {test_loss:.4f}\")\n",
    "print(f\"Test Accuracy: {test_acc:.4f}\")"
   ]
  },
  {
   "cell_type": "code",
   "execution_count": 22,
   "id": "eeec17ae-96bf-49eb-bc49-51e239bd7438",
   "metadata": {},
   "outputs": [
    {
     "name": "stdout",
     "output_type": "stream",
     "text": [
      "Model: \"sequential_3\"\n",
      "_________________________________________________________________\n",
      " Layer (type)                Output Shape              Param #   \n",
      "=================================================================\n",
      " conv2d (Conv2D)             (None, 146, 146, 6)       456       \n",
      "                                                                 \n",
      " average_pooling2d (Average  (None, 73, 73, 6)         0         \n",
      " Pooling2D)                                                      \n",
      "                                                                 \n",
      " conv2d_1 (Conv2D)           (None, 69, 69, 16)        2416      \n",
      "                                                                 \n",
      " average_pooling2d_1 (Avera  (None, 34, 34, 16)        0         \n",
      " gePooling2D)                                                    \n",
      "                                                                 \n",
      " flatten_3 (Flatten)         (None, 18496)             0         \n",
      "                                                                 \n",
      " dense_9 (Dense)             (None, 120)               2219640   \n",
      "                                                                 \n",
      " dense_10 (Dense)            (None, 84)                10164     \n",
      "                                                                 \n",
      " dense_11 (Dense)            (None, 2)                 170       \n",
      "                                                                 \n",
      "=================================================================\n",
      "Total params: 2232846 (8.52 MB)\n",
      "Trainable params: 2232846 (8.52 MB)\n",
      "Non-trainable params: 0 (0.00 Byte)\n",
      "_________________________________________________________________\n"
     ]
    }
   ],
   "source": [
    "import tensorflow as tf\n",
    "from tensorflow.keras import models, layers  # Following lab's import style\n",
    "from tensorflow.keras.optimizers import RMSprop\n",
    "import matplotlib.pyplot as plt\n",
    "\n",
    "#Variant 1: Baseline LeNet-5 with 6 and 16 filters, 120 and 84 neurons.\n",
    "\n",
    "# Define input shape and number of classes for your dataset\n",
    "input_shape = (150, 150, 3)  # Your 150x150 RGB images\n",
    "num_classes = 2  # damage/no-damage\n",
    "model_lenet5 = models.Sequential()\n",
    "\n",
    "# Layer 1\n",
    "model_lenet5.add(layers.Conv2D(6, kernel_size=(5, 5), activation='relu', input_shape=input_shape))\n",
    "model_lenet5.add(layers.AveragePooling2D(pool_size=(2, 2)))\n",
    "\n",
    "# Layer 2\n",
    "model_lenet5.add(layers.Conv2D(16, kernel_size=(5, 5), activation='relu'))\n",
    "model_lenet5.add(layers.AveragePooling2D(pool_size=(2, 2)))\n",
    "\n",
    "model_lenet5.add(layers.Flatten())  \n",
    "\n",
    "# Layer 3\n",
    "model_lenet5.add(layers.Dense(120, activation='relu'))\n",
    "\n",
    "# Layer 4\n",
    "model_lenet5.add(layers.Dense(84, activation='relu'))\n",
    "\n",
    "# Output layer\n",
    "model_lenet5.add(layers.Dense(num_classes, activation='softmax'))\n",
    "\n",
    "model_lenet5.compile(optimizer=RMSprop(learning_rate=1e-4),\n",
    "                     loss='sparse_categorical_crossentropy',\n",
    "                     metrics=['accuracy'])\n",
    "model_lenet5.summary()"
   ]
  },
  {
   "cell_type": "code",
   "execution_count": 23,
   "id": "b6b0f61d-5fc0-43db-b6ea-3bbeba92d4eb",
   "metadata": {},
   "outputs": [
    {
     "name": "stdout",
     "output_type": "stream",
     "text": [
      "Epoch 1/20\n",
      "533/533 [==============================] - 79s 146ms/step - loss: 0.5422 - accuracy: 0.7370 - val_loss: 0.4457 - val_accuracy: 0.8189\n",
      "Epoch 2/20\n",
      "533/533 [==============================] - 78s 146ms/step - loss: 0.4235 - accuracy: 0.8199 - val_loss: 0.3738 - val_accuracy: 0.8520\n",
      "Epoch 3/20\n",
      "533/533 [==============================] - 77s 145ms/step - loss: 0.3778 - accuracy: 0.8438 - val_loss: 0.4155 - val_accuracy: 0.8051\n",
      "Epoch 4/20\n",
      "533/533 [==============================] - 77s 145ms/step - loss: 0.3400 - accuracy: 0.8601 - val_loss: 0.3271 - val_accuracy: 0.8651\n",
      "Epoch 5/20\n",
      "533/533 [==============================] - 77s 144ms/step - loss: 0.3053 - accuracy: 0.8728 - val_loss: 0.2942 - val_accuracy: 0.8794\n",
      "Epoch 6/20\n",
      "533/533 [==============================] - 78s 146ms/step - loss: 0.2745 - accuracy: 0.8863 - val_loss: 0.2612 - val_accuracy: 0.8919\n",
      "Epoch 7/20\n",
      "533/533 [==============================] - 78s 146ms/step - loss: 0.2457 - accuracy: 0.9007 - val_loss: 0.2373 - val_accuracy: 0.9095\n",
      "Epoch 8/20\n",
      "533/533 [==============================] - 78s 147ms/step - loss: 0.2246 - accuracy: 0.9071 - val_loss: 0.2279 - val_accuracy: 0.9087\n",
      "Epoch 9/20\n",
      "533/533 [==============================] - 78s 146ms/step - loss: 0.2047 - accuracy: 0.9173 - val_loss: 0.2116 - val_accuracy: 0.9160\n",
      "Epoch 10/20\n",
      "533/533 [==============================] - 78s 146ms/step - loss: 0.1888 - accuracy: 0.9238 - val_loss: 0.2028 - val_accuracy: 0.9172\n",
      "Epoch 11/20\n",
      "533/533 [==============================] - 78s 146ms/step - loss: 0.1760 - accuracy: 0.9301 - val_loss: 0.1906 - val_accuracy: 0.9202\n",
      "Epoch 12/20\n",
      "533/533 [==============================] - 78s 146ms/step - loss: 0.1589 - accuracy: 0.9372 - val_loss: 0.1812 - val_accuracy: 0.9249\n",
      "Epoch 13/20\n",
      "533/533 [==============================] - 78s 147ms/step - loss: 0.1422 - accuracy: 0.9456 - val_loss: 0.1832 - val_accuracy: 0.9219\n",
      "Epoch 14/20\n",
      "533/533 [==============================] - 78s 147ms/step - loss: 0.1293 - accuracy: 0.9498 - val_loss: 0.1882 - val_accuracy: 0.9259\n",
      "Epoch 15/20\n",
      "533/533 [==============================] - 79s 149ms/step - loss: 0.1192 - accuracy: 0.9542 - val_loss: 0.1649 - val_accuracy: 0.9324\n",
      "Epoch 16/20\n",
      "533/533 [==============================] - 79s 147ms/step - loss: 0.1074 - accuracy: 0.9591 - val_loss: 0.1641 - val_accuracy: 0.9338\n",
      "Epoch 17/20\n",
      "533/533 [==============================] - 78s 147ms/step - loss: 0.0963 - accuracy: 0.9642 - val_loss: 0.1712 - val_accuracy: 0.9322\n",
      "Epoch 18/20\n",
      "533/533 [==============================] - 81s 151ms/step - loss: 0.0864 - accuracy: 0.9679 - val_loss: 0.1577 - val_accuracy: 0.9376\n",
      "Epoch 19/20\n",
      "533/533 [==============================] - 78s 146ms/step - loss: 0.0774 - accuracy: 0.9713 - val_loss: 0.1772 - val_accuracy: 0.9334\n",
      "Epoch 20/20\n",
      "533/533 [==============================] - 79s 147ms/step - loss: 0.0704 - accuracy: 0.9744 - val_loss: 0.1658 - val_accuracy: 0.9327\n"
     ]
    }
   ],
   "source": [
    "# Fit the model using your preprocessed datasets\n",
    "history = model_lenet5.fit(\n",
    "    train_rescale_ds,\n",
    "    batch_size=32,  # Matches your dataset's batch size\n",
    "    epochs=20,      # Matches lab's epoch count\n",
    "    validation_data=val_rescale_ds\n",
    ")"
   ]
  },
  {
   "cell_type": "code",
   "execution_count": 24,
   "id": "1a5715c8-abb2-4bc7-9b7c-bed5c3b36f72",
   "metadata": {},
   "outputs": [
    {
     "name": "stdout",
     "output_type": "stream",
     "text": [
      "\n",
      "Test accuracy: 0.9750\n",
      "Test loss: 0.0745\n"
     ]
    }
   ],
   "source": [
    "# Evaluate on test set\n",
    "test_loss, test_accuracy = model_lenet5.evaluate(test_rescale_ds, verbose=0)\n",
    "print(f\"\\nTest accuracy: {test_accuracy:.4f}\")\n",
    "print(f\"Test loss: {test_loss:.4f}\")"
   ]
  },
  {
   "cell_type": "code",
   "execution_count": 25,
   "id": "5afa1e0a-5dc1-4ffb-b69a-2792b48dca3d",
   "metadata": {},
   "outputs": [
    {
     "name": "stdout",
     "output_type": "stream",
     "text": [
      "Model: \"sequential_4\"\n",
      "_________________________________________________________________\n",
      " Layer (type)                Output Shape              Param #   \n",
      "=================================================================\n",
      " conv2d_2 (Conv2D)           (None, 146, 146, 12)      912       \n",
      "                                                                 \n",
      " average_pooling2d_2 (Avera  (None, 73, 73, 12)        0         \n",
      " gePooling2D)                                                    \n",
      "                                                                 \n",
      " conv2d_3 (Conv2D)           (None, 69, 69, 32)        9632      \n",
      "                                                                 \n",
      " average_pooling2d_3 (Avera  (None, 34, 34, 32)        0         \n",
      " gePooling2D)                                                    \n",
      "                                                                 \n",
      " flatten_4 (Flatten)         (None, 36992)             0         \n",
      "                                                                 \n",
      " dense_12 (Dense)            (None, 120)               4439160   \n",
      "                                                                 \n",
      " dense_13 (Dense)            (None, 84)                10164     \n",
      "                                                                 \n",
      " dense_14 (Dense)            (None, 2)                 170       \n",
      "                                                                 \n",
      "=================================================================\n",
      "Total params: 4460038 (17.01 MB)\n",
      "Trainable params: 4460038 (17.01 MB)\n",
      "Non-trainable params: 0 (0.00 Byte)\n",
      "_________________________________________________________________\n",
      "Epoch 1/20\n",
      "533/533 [==============================] - 103s 192ms/step - loss: 0.5252 - accuracy: 0.7512 - val_loss: 0.4356 - val_accuracy: 0.8023\n",
      "Epoch 2/20\n",
      "533/533 [==============================] - 104s 194ms/step - loss: 0.4078 - accuracy: 0.8293 - val_loss: 0.3891 - val_accuracy: 0.8320\n",
      "Epoch 3/20\n",
      "533/533 [==============================] - 99s 185ms/step - loss: 0.3383 - accuracy: 0.8687 - val_loss: 0.3288 - val_accuracy: 0.8804\n",
      "Epoch 4/20\n",
      "533/533 [==============================] - 100s 188ms/step - loss: 0.2782 - accuracy: 0.8914 - val_loss: 0.2529 - val_accuracy: 0.9022\n",
      "Epoch 5/20\n",
      "533/533 [==============================] - 98s 183ms/step - loss: 0.1999 - accuracy: 0.9209 - val_loss: 0.1846 - val_accuracy: 0.9294\n",
      "Epoch 7/20\n",
      "533/533 [==============================] - 97s 182ms/step - loss: 0.1775 - accuracy: 0.9320 - val_loss: 0.1845 - val_accuracy: 0.9268\n",
      "Epoch 8/20\n",
      "533/533 [==============================] - 99s 186ms/step - loss: 0.1587 - accuracy: 0.9387 - val_loss: 0.1876 - val_accuracy: 0.9285\n",
      "Epoch 9/20\n",
      "533/533 [==============================] - 100s 188ms/step - loss: 0.1326 - accuracy: 0.9473 - val_loss: 0.1617 - val_accuracy: 0.9374\n",
      "Epoch 11/20\n",
      "533/533 [==============================] - 100s 187ms/step - loss: 0.1209 - accuracy: 0.9527 - val_loss: 0.1511 - val_accuracy: 0.9402\n",
      "Epoch 12/20\n",
      "533/533 [==============================] - 101s 190ms/step - loss: 0.1114 - accuracy: 0.9560 - val_loss: 0.1909 - val_accuracy: 0.9320\n",
      "Epoch 13/20\n",
      "533/533 [==============================] - 99s 187ms/step - loss: 0.1033 - accuracy: 0.9597 - val_loss: 0.1754 - val_accuracy: 0.9381\n",
      "Epoch 14/20\n",
      "533/533 [==============================] - 100s 188ms/step - loss: 0.0905 - accuracy: 0.9646 - val_loss: 0.1941 - val_accuracy: 0.9209\n",
      "Epoch 15/20\n",
      "533/533 [==============================] - 99s 186ms/step - loss: 0.0835 - accuracy: 0.9688 - val_loss: 0.1448 - val_accuracy: 0.9453\n",
      "Epoch 16/20\n",
      "533/533 [==============================] - 99s 186ms/step - loss: 0.0767 - accuracy: 0.9736 - val_loss: 0.1657 - val_accuracy: 0.9430\n",
      "Epoch 17/20\n",
      "533/533 [==============================] - 101s 189ms/step - loss: 0.0673 - accuracy: 0.9757 - val_loss: 0.2076 - val_accuracy: 0.9209\n",
      "Epoch 18/20\n",
      "533/533 [==============================] - 100s 188ms/step - loss: 0.0607 - accuracy: 0.9788 - val_loss: 0.1634 - val_accuracy: 0.9407\n",
      "Epoch 19/20\n",
      "533/533 [==============================] - 96s 181ms/step - loss: 0.0521 - accuracy: 0.9823 - val_loss: 0.1706 - val_accuracy: 0.9437\n",
      "Epoch 20/20\n",
      "533/533 [==============================] - 98s 185ms/step - loss: 0.0477 - accuracy: 0.9839 - val_loss: 0.1693 - val_accuracy: 0.9463\n"
     ]
    }
   ],
   "source": [
    "import tensorflow as tf\n",
    "from tensorflow.keras import models, layers  # Following lab's import style\n",
    "from tensorflow.keras.optimizers import RMSprop\n",
    "import matplotlib.pyplot as plt\n",
    "\n",
    "\n",
    "#Variant 2: Increases filters to 12 and 32 for more feature extraction capacity.\n",
    "\n",
    "# Define LeNet-5 with increased filters\n",
    "model_lenet5 = models.Sequential()\n",
    "\n",
    "# Layer 1\n",
    "model_lenet5.add(layers.Conv2D(12, kernel_size=(5, 5), activation='relu', input_shape=input_shape))\n",
    "model_lenet5.add(layers.AveragePooling2D(pool_size=(2, 2)))\n",
    "\n",
    "# Layer 2\n",
    "model_lenet5.add(layers.Conv2D(32, kernel_size=(5, 5), activation='relu'))\n",
    "model_lenet5.add(layers.AveragePooling2D(pool_size=(2, 2)))\n",
    "\n",
    "model_lenet5.add(layers.Flatten())  \n",
    "\n",
    "# Layer 3\n",
    "model_lenet5.add(layers.Dense(120, activation='relu'))\n",
    "\n",
    "# Layer 4\n",
    "model_lenet5.add(layers.Dense(84, activation='relu'))\n",
    "\n",
    "# Output layer\n",
    "model_lenet5.add(layers.Dense(num_classes, activation='softmax'))\n",
    "\n",
    "# Compile\n",
    "model_lenet5.compile(optimizer=RMSprop(learning_rate=1e-4),\n",
    "                     loss='sparse_categorical_crossentropy',\n",
    "                     metrics=['accuracy'])\n",
    "\n",
    "# Summary\n",
    "model_lenet5.summary()\n",
    "\n",
    "# Train\n",
    "history = model_lenet5.fit(\n",
    "    train_rescale_ds,\n",
    "    batch_size=32,\n",
    "    epochs=20,\n",
    "    validation_data=val_rescale_ds,\n",
    "    verbose=1\n",
    ")\n"
   ]
  },
  {
   "cell_type": "code",
   "execution_count": 26,
   "id": "f0091b2b-ab39-451f-bb8b-3aedb2eac57f",
   "metadata": {},
   "outputs": [
    {
     "name": "stdout",
     "output_type": "stream",
     "text": [
      "\n",
      "Variant 2 - Increased Filters\n",
      "Test accuracy: 0.9806\n",
      "Test loss: 0.0608\n"
     ]
    }
   ],
   "source": [
    "# Evaluate\n",
    "test_loss, test_accuracy = model_lenet5.evaluate(test_rescale_ds, verbose=0)\n",
    "print(f\"\\nVariant 2 - Increased Filters\")\n",
    "print(f\"Test accuracy: {test_accuracy:.4f}\")\n",
    "print(f\"Test loss: {test_loss:.4f}\")"
   ]
  },
  {
   "cell_type": "code",
   "execution_count": 27,
   "id": "97d50209-9d8e-4008-8da8-2c745739d3ed",
   "metadata": {},
   "outputs": [
    {
     "name": "stdout",
     "output_type": "stream",
     "text": [
      "Model: \"sequential_5\"\n",
      "_________________________________________________________________\n",
      " Layer (type)                Output Shape              Param #   \n",
      "=================================================================\n",
      " conv2d_4 (Conv2D)           (None, 146, 146, 6)       456       \n",
      "                                                                 \n",
      " average_pooling2d_4 (Avera  (None, 73, 73, 6)         0         \n",
      " gePooling2D)                                                    \n",
      "                                                                 \n",
      " conv2d_5 (Conv2D)           (None, 69, 69, 16)        2416      \n",
      "                                                                 \n",
      " average_pooling2d_5 (Avera  (None, 34, 34, 16)        0         \n",
      " gePooling2D)                                                    \n",
      "                                                                 \n",
      " flatten_5 (Flatten)         (None, 18496)             0         \n",
      "                                                                 \n",
      " dense_15 (Dense)            (None, 256)               4735232   \n",
      "                                                                 \n",
      " dropout (Dropout)           (None, 256)               0         \n",
      "                                                                 \n",
      " dense_16 (Dense)            (None, 128)               32896     \n",
      "                                                                 \n",
      " dropout_1 (Dropout)         (None, 128)               0         \n",
      "                                                                 \n",
      " dense_17 (Dense)            (None, 2)                 258       \n",
      "                                                                 \n",
      "=================================================================\n",
      "Total params: 4771258 (18.20 MB)\n",
      "Trainable params: 4771258 (18.20 MB)\n",
      "Non-trainable params: 0 (0.00 Byte)\n",
      "_________________________________________________________________\n",
      "Epoch 1/20\n",
      "533/533 [==============================] - 79s 147ms/step - loss: 0.5898 - accuracy: 0.7084 - val_loss: 0.4784 - val_accuracy: 0.8527\n",
      "Epoch 2/20\n",
      "533/533 [==============================] - 79s 147ms/step - loss: 0.4286 - accuracy: 0.8266 - val_loss: 0.3494 - val_accuracy: 0.8677\n",
      "Epoch 3/20\n",
      "533/533 [==============================] - 77s 145ms/step - loss: 0.3765 - accuracy: 0.8540 - val_loss: 0.3270 - val_accuracy: 0.8806\n",
      "Epoch 4/20\n",
      "533/533 [==============================] - 79s 149ms/step - loss: 0.3415 - accuracy: 0.8676 - val_loss: 0.3514 - val_accuracy: 0.8546\n",
      "Epoch 5/20\n",
      "533/533 [==============================] - 81s 152ms/step - loss: 0.3075 - accuracy: 0.8787 - val_loss: 0.2755 - val_accuracy: 0.8834\n",
      "Epoch 6/20\n",
      "533/533 [==============================] - 79s 149ms/step - loss: 0.2685 - accuracy: 0.8939 - val_loss: 0.2275 - val_accuracy: 0.9123\n",
      "Epoch 7/20\n",
      "533/533 [==============================] - 78s 147ms/step - loss: 0.2460 - accuracy: 0.9001 - val_loss: 0.2895 - val_accuracy: 0.8792\n",
      "Epoch 8/20\n",
      "533/533 [==============================] - 80s 150ms/step - loss: 0.2242 - accuracy: 0.9108 - val_loss: 0.2518 - val_accuracy: 0.8973\n",
      "Epoch 9/20\n",
      "533/533 [==============================] - 81s 153ms/step - loss: 0.2090 - accuracy: 0.9174 - val_loss: 0.2018 - val_accuracy: 0.9212\n",
      "Epoch 10/20\n",
      "533/533 [==============================] - 82s 153ms/step - loss: 0.1868 - accuracy: 0.9241 - val_loss: 0.1957 - val_accuracy: 0.9252\n",
      "Epoch 11/20\n",
      "533/533 [==============================] - 81s 152ms/step - loss: 0.1780 - accuracy: 0.9282 - val_loss: 0.1752 - val_accuracy: 0.9306\n",
      "Epoch 12/20\n",
      "533/533 [==============================] - 82s 153ms/step - loss: 0.1653 - accuracy: 0.9335 - val_loss: 0.1683 - val_accuracy: 0.9350\n",
      "Epoch 13/20\n",
      "533/533 [==============================] - 82s 153ms/step - loss: 0.1549 - accuracy: 0.9398 - val_loss: 0.1676 - val_accuracy: 0.9336\n",
      "Epoch 14/20\n",
      "533/533 [==============================] - 81s 152ms/step - loss: 0.1419 - accuracy: 0.9435 - val_loss: 0.1978 - val_accuracy: 0.9226\n",
      "Epoch 15/20\n",
      "533/533 [==============================] - 81s 152ms/step - loss: 0.1392 - accuracy: 0.9491 - val_loss: 0.1710 - val_accuracy: 0.9364\n",
      "Epoch 16/20\n",
      "533/533 [==============================] - 83s 156ms/step - loss: 0.1328 - accuracy: 0.9499 - val_loss: 0.1641 - val_accuracy: 0.9376\n",
      "Epoch 17/20\n",
      "533/533 [==============================] - 83s 155ms/step - loss: 0.1212 - accuracy: 0.9543 - val_loss: 0.1530 - val_accuracy: 0.9414\n",
      "Epoch 18/20\n",
      "533/533 [==============================] - 80s 151ms/step - loss: 0.1183 - accuracy: 0.9556 - val_loss: 0.1709 - val_accuracy: 0.9355\n",
      "Epoch 19/20\n",
      "533/533 [==============================] - 80s 151ms/step - loss: 0.1125 - accuracy: 0.9579 - val_loss: 0.1891 - val_accuracy: 0.9367\n",
      "Epoch 20/20\n",
      "533/533 [==============================] - 80s 150ms/step - loss: 0.1072 - accuracy: 0.9591 - val_loss: 0.1549 - val_accuracy: 0.9439\n"
     ]
    }
   ],
   "source": [
    "import tensorflow as tf\n",
    "from tensorflow.keras import models, layers  # Following lab's import style\n",
    "from tensorflow.keras.optimizers import RMSprop\n",
    "import matplotlib.pyplot as plt\n",
    "\n",
    "\n",
    "#Variant 3: Keeps original filters but increases dense layers to 256 and 128, adding dropout (0.5) to reduce overfitting.\n",
    "\n",
    "# Define LeNet-5 with dropout and modified dense layers\n",
    "model_lenet5 = models.Sequential()\n",
    "\n",
    "# Layer 1\n",
    "model_lenet5.add(layers.Conv2D(6, kernel_size=(5, 5), activation='relu', input_shape=input_shape))\n",
    "model_lenet5.add(layers.AveragePooling2D(pool_size=(2, 2)))\n",
    "\n",
    "# Layer 2\n",
    "model_lenet5.add(layers.Conv2D(16, kernel_size=(5, 5), activation='relu'))\n",
    "model_lenet5.add(layers.AveragePooling2D(pool_size=(2, 2)))\n",
    "\n",
    "model_lenet5.add(layers.Flatten())  \n",
    "\n",
    "# Layer 3\n",
    "model_lenet5.add(layers.Dense(256, activation='relu'))\n",
    "model_lenet5.add(layers.Dropout(0.5))  # Added dropout\n",
    "\n",
    "# Layer 4\n",
    "model_lenet5.add(layers.Dense(128, activation='relu'))\n",
    "model_lenet5.add(layers.Dropout(0.5))  # Added dropout\n",
    "\n",
    "# Output layer\n",
    "model_lenet5.add(layers.Dense(num_classes, activation='softmax'))\n",
    "\n",
    "# Compile\n",
    "model_lenet5.compile(optimizer=RMSprop(learning_rate=1e-4),\n",
    "                     loss='sparse_categorical_crossentropy',\n",
    "                     metrics=['accuracy'])\n",
    "\n",
    "# Summary\n",
    "model_lenet5.summary()\n",
    "\n",
    "# Train\n",
    "history = model_lenet5.fit(\n",
    "    train_rescale_ds,\n",
    "    batch_size=32,\n",
    "    epochs=20,\n",
    "    validation_data=val_rescale_ds,\n",
    "    verbose=1\n",
    ")"
   ]
  },
  {
   "cell_type": "code",
   "execution_count": 28,
   "id": "6185eb4a-1937-4f60-ace3-7250b55b95fc",
   "metadata": {},
   "outputs": [
    {
     "name": "stdout",
     "output_type": "stream",
     "text": [
      "\n",
      "Variant 3 - Dropout and Modified Dense Layers\n",
      "Test accuracy: 0.9687\n",
      "Test loss: 0.0852\n"
     ]
    }
   ],
   "source": [
    "test_loss, test_accuracy = model_lenet5.evaluate(test_rescale_ds, verbose=0)\n",
    "print(f\"\\nVariant 3 - Dropout and Modified Dense Layers\")\n",
    "print(f\"Test accuracy: {test_accuracy:.4f}\")\n",
    "print(f\"Test loss: {test_loss:.4f}\")"
   ]
  },
  {
   "cell_type": "code",
   "execution_count": 29,
   "id": "d8d38cbe-281f-4850-9685-3383d8af49db",
   "metadata": {},
   "outputs": [
    {
     "name": "stdout",
     "output_type": "stream",
     "text": [
      "Epoch 1/10\n",
      "533/533 [==============================] - 159s 297ms/step - loss: 0.5430 - accuracy: 0.7430\n",
      "Epoch 2/10\n",
      "533/533 [==============================] - 157s 294ms/step - loss: 0.3769 - accuracy: 0.8419\n",
      "Epoch 3/10\n",
      "533/533 [==============================] - 157s 294ms/step - loss: 0.2908 - accuracy: 0.8840\n",
      "Epoch 4/10\n",
      "533/533 [==============================] - 157s 295ms/step - loss: 0.2193 - accuracy: 0.9146\n",
      "Epoch 5/10\n",
      "533/533 [==============================] - 157s 294ms/step - loss: 0.1682 - accuracy: 0.9349\n",
      "Epoch 6/10\n",
      "533/533 [==============================] - 157s 295ms/step - loss: 0.1425 - accuracy: 0.9455\n",
      "Epoch 7/10\n",
      "533/533 [==============================] - 157s 294ms/step - loss: 0.1232 - accuracy: 0.9512\n",
      "Epoch 8/10\n",
      "533/533 [==============================] - 158s 296ms/step - loss: 0.1103 - accuracy: 0.9579\n",
      "Epoch 9/10\n",
      "533/533 [==============================] - 158s 297ms/step - loss: 0.0988 - accuracy: 0.9623\n",
      "Epoch 10/10\n",
      "533/533 [==============================] - 158s 296ms/step - loss: 0.0916 - accuracy: 0.9647\n"
     ]
    },
    {
     "data": {
      "text/plain": [
       "<keras.src.callbacks.History at 0x79d5eab3b890>"
      ]
     },
     "execution_count": 29,
     "metadata": {},
     "output_type": "execute_result"
    }
   ],
   "source": [
    "# adding alternate lenet-5 cnn\n",
    "import tensorflow as tf\n",
    "from tensorflow.keras import layers, models, optimizers\n",
    "\n",
    "model_alt_cnn = models.Sequential()\n",
    "\n",
    "# first block\n",
    "model_alt_cnn.add(layers.Conv2D(filters=32, kernel_size=(3,3), activation='relu'))\n",
    "model_alt_cnn.add(layers.MaxPooling2D(pool_size=(2,2)))\n",
    "\n",
    "# second block \n",
    "model_alt_cnn.add(layers.Conv2D(filters=64, kernel_size=(3,3), activation='relu'))\n",
    "model_alt_cnn.add(layers.MaxPooling2D(pool_size=(2,2)))\n",
    "\n",
    "# third block \n",
    "model_alt_cnn.add(layers.Conv2D(filters=128, kernel_size=(3,3), activation='relu'))\n",
    "model_alt_cnn.add(layers.MaxPooling2D(pool_size=(2,2)))\n",
    "\n",
    "# fourth block \n",
    "model_alt_cnn.add(layers.Conv2D(filters=128, kernel_size=(3,3), activation='relu'))\n",
    "model_alt_cnn.add(layers.MaxPooling2D(pool_size=(2,2)))\n",
    "\n",
    "# flattening\n",
    "model_alt_cnn.add(layers.Flatten())\n",
    "\n",
    "# dense layers \n",
    "model_alt_cnn.add(layers.Dense(512, activation='relu'))\n",
    "\n",
    "# output layer\n",
    "model_alt_cnn.add(layers.Dense(4, activation='softmax'))   # not sure what num to put\n",
    "\n",
    "model_alt_cnn.compile(optimizer=optimizers.RMSprop(learning_rate=1e-4), loss='sparse_categorical_crossentropy', metrics=['accuracy'])\n",
    "\n",
    "model_alt_cnn.fit(train_rescale_ds, batch_size=32, epochs=10)"
   ]
  },
  {
   "cell_type": "code",
   "execution_count": 30,
   "id": "89546942-f00a-4dea-bfdf-ae450417731e",
   "metadata": {},
   "outputs": [
    {
     "name": "stdout",
     "output_type": "stream",
     "text": [
      "Model: \"sequential_6\"\n",
      "_________________________________________________________________\n",
      " Layer (type)                Output Shape              Param #   \n",
      "=================================================================\n",
      " conv2d_6 (Conv2D)           (None, 148, 148, 32)      896       \n",
      "                                                                 \n",
      " max_pooling2d (MaxPooling2  (None, 74, 74, 32)        0         \n",
      " D)                                                              \n",
      "                                                                 \n",
      " conv2d_7 (Conv2D)           (None, 72, 72, 64)        18496     \n",
      "                                                                 \n",
      " max_pooling2d_1 (MaxPoolin  (None, 36, 36, 64)        0         \n",
      " g2D)                                                            \n",
      "                                                                 \n",
      " conv2d_8 (Conv2D)           (None, 34, 34, 128)       73856     \n",
      "                                                                 \n",
      " max_pooling2d_2 (MaxPoolin  (None, 17, 17, 128)       0         \n",
      " g2D)                                                            \n",
      "                                                                 \n",
      " conv2d_9 (Conv2D)           (None, 15, 15, 128)       147584    \n",
      "                                                                 \n",
      " max_pooling2d_3 (MaxPoolin  (None, 7, 7, 128)         0         \n",
      " g2D)                                                            \n",
      "                                                                 \n",
      " flatten_6 (Flatten)         (None, 6272)              0         \n",
      "                                                                 \n",
      " dense_18 (Dense)            (None, 512)               3211776   \n",
      "                                                                 \n",
      " dense_19 (Dense)            (None, 4)                 2052      \n",
      "                                                                 \n",
      "=================================================================\n",
      "Total params: 3454660 (13.18 MB)\n",
      "Trainable params: 3454660 (13.18 MB)\n",
      "Non-trainable params: 0 (0.00 Byte)\n",
      "_________________________________________________________________\n",
      "Alternate Lenet-5 CNN accuracy: 0.9556941986083984\n"
     ]
    }
   ],
   "source": [
    "model_alt_cnn.summary()\n",
    "test_loss, test_accuracy = model_alt_cnn.evaluate(test_rescale_ds, verbose=0)\n",
    "print(\"Alternate Lenet-5 CNN accuracy:\", test_accuracy)"
   ]
  },
  {
   "cell_type": "code",
   "execution_count": 35,
   "id": "95c6e6a8-8f91-470a-948a-93892c425314",
   "metadata": {},
   "outputs": [
    {
     "name": "stdout",
     "output_type": "stream",
     "text": [
      "Epoch 1/20\n",
      "533/533 [==============================] - 163s 304ms/step - loss: 0.4938 - accuracy: 0.7725\n",
      "Epoch 2/20\n",
      "533/533 [==============================] - 163s 306ms/step - loss: 0.3334 - accuracy: 0.8654\n",
      "Epoch 3/20\n",
      "533/533 [==============================] - 163s 306ms/step - loss: 0.2523 - accuracy: 0.9041\n",
      "Epoch 4/20\n",
      "533/533 [==============================] - 162s 305ms/step - loss: 0.1875 - accuracy: 0.9274\n",
      "Epoch 5/20\n",
      "533/533 [==============================] - 162s 305ms/step - loss: 0.1510 - accuracy: 0.9415\n",
      "Epoch 6/20\n",
      "533/533 [==============================] - 163s 306ms/step - loss: 0.1284 - accuracy: 0.9495\n",
      "Epoch 7/20\n",
      "533/533 [==============================] - 162s 304ms/step - loss: 0.1137 - accuracy: 0.9577\n",
      "Epoch 8/20\n",
      "533/533 [==============================] - 162s 305ms/step - loss: 0.1022 - accuracy: 0.9595\n",
      "Epoch 9/20\n",
      "533/533 [==============================] - 163s 307ms/step - loss: 0.0946 - accuracy: 0.9632\n",
      "Epoch 10/20\n",
      "533/533 [==============================] - 164s 307ms/step - loss: 0.0869 - accuracy: 0.9673\n",
      "Epoch 11/20\n",
      "533/533 [==============================] - 163s 305ms/step - loss: 0.0806 - accuracy: 0.9700\n",
      "Epoch 12/20\n",
      "533/533 [==============================] - 162s 304ms/step - loss: 0.0743 - accuracy: 0.9719\n",
      "Epoch 13/20\n",
      "533/533 [==============================] - 164s 307ms/step - loss: 0.0693 - accuracy: 0.9735\n",
      "Epoch 14/20\n",
      "533/533 [==============================] - 163s 306ms/step - loss: 0.0633 - accuracy: 0.9777\n",
      "Epoch 15/20\n",
      "533/533 [==============================] - 162s 305ms/step - loss: 0.0578 - accuracy: 0.9792\n",
      "Epoch 16/20\n",
      "533/533 [==============================] - 164s 308ms/step - loss: 0.0544 - accuracy: 0.9809\n",
      "Epoch 17/20\n",
      "533/533 [==============================] - 164s 308ms/step - loss: 0.0485 - accuracy: 0.9822\n",
      "Epoch 18/20\n",
      "533/533 [==============================] - 163s 305ms/step - loss: 0.0445 - accuracy: 0.9853\n",
      "Epoch 19/20\n",
      "533/533 [==============================] - 163s 306ms/step - loss: 0.0391 - accuracy: 0.9863\n",
      "Epoch 20/20\n",
      "533/533 [==============================] - 165s 309ms/step - loss: 0.0382 - accuracy: 0.9869\n"
     ]
    },
    {
     "data": {
      "text/plain": [
       "<keras.src.callbacks.History at 0x79d5eb18a550>"
      ]
     },
     "execution_count": 35,
     "metadata": {},
     "output_type": "execute_result"
    }
   ],
   "source": [
    "# adding alternate lenet-5 cnn\n",
    "import tensorflow as tf\n",
    "from tensorflow.keras import layers, models, optimizers\n",
    "\n",
    "model_alt_cnn2 = models.Sequential()\n",
    "\n",
    "# first block\n",
    "model_alt_cnn2.add(layers.Conv2D(filters=32, kernel_size=(3,3), activation='relu'))\n",
    "model_alt_cnn2.add(layers.MaxPooling2D(pool_size=(2,2)))\n",
    "\n",
    "# second block \n",
    "model_alt_cnn2.add(layers.Conv2D(filters=64, kernel_size=(3,3), activation='relu'))\n",
    "model_alt_cnn2.add(layers.MaxPooling2D(pool_size=(2,2)))\n",
    "\n",
    "# third block \n",
    "model_alt_cnn2.add(layers.Conv2D(filters=128, kernel_size=(3,3), activation='relu'))\n",
    "model_alt_cnn2.add(layers.MaxPooling2D(pool_size=(2,2)))\n",
    "\n",
    "# fourth block \n",
    "model_alt_cnn2.add(layers.Conv2D(filters=128, kernel_size=(3,3), activation='relu'))\n",
    "model_alt_cnn2.add(layers.MaxPooling2D(pool_size=(2,2)))\n",
    "\n",
    "# flattening\n",
    "model_alt_cnn2.add(layers.Flatten())\n",
    "\n",
    "# dense layers \n",
    "model_alt_cnn2.add(layers.Dense(512, activation='relu'))\n",
    "\n",
    "# output layer\n",
    "model_alt_cnn2.add(layers.Dense(2, activation='softmax'))   # not sure what num to put\n",
    "\n",
    "model_alt_cnn2.compile(optimizer=optimizers.RMSprop(learning_rate=1e-4), loss='sparse_categorical_crossentropy', metrics=['accuracy'])\n",
    "\n",
    "model_alt_cnn2.fit(train_rescale_ds, batch_size=32, epochs=20)"
   ]
  },
  {
   "cell_type": "code",
   "execution_count": 43,
   "id": "2fd8ea54-7de1-40b8-98a3-4560252f1b27",
   "metadata": {},
   "outputs": [
    {
     "name": "stdout",
     "output_type": "stream",
     "text": [
      "Model: \"sequential_8\"\n",
      "_________________________________________________________________\n",
      " Layer (type)                Output Shape              Param #   \n",
      "=================================================================\n",
      " conv2d_14 (Conv2D)          (None, 148, 148, 32)      896       \n",
      "                                                                 \n",
      " max_pooling2d_8 (MaxPoolin  (None, 74, 74, 32)        0         \n",
      " g2D)                                                            \n",
      "                                                                 \n",
      " conv2d_15 (Conv2D)          (None, 72, 72, 64)        18496     \n",
      "                                                                 \n",
      " max_pooling2d_9 (MaxPoolin  (None, 36, 36, 64)        0         \n",
      " g2D)                                                            \n",
      "                                                                 \n",
      " conv2d_16 (Conv2D)          (None, 34, 34, 128)       73856     \n",
      "                                                                 \n",
      " max_pooling2d_10 (MaxPooli  (None, 17, 17, 128)       0         \n",
      " ng2D)                                                           \n",
      "                                                                 \n",
      " conv2d_17 (Conv2D)          (None, 15, 15, 128)       147584    \n",
      "                                                                 \n",
      " max_pooling2d_11 (MaxPooli  (None, 7, 7, 128)         0         \n",
      " ng2D)                                                           \n",
      "                                                                 \n",
      " flatten_8 (Flatten)         (None, 6272)              0         \n",
      "                                                                 \n",
      " dense_22 (Dense)            (None, 512)               3211776   \n",
      "                                                                 \n",
      " dense_23 (Dense)            (None, 2)                 1026      \n",
      "                                                                 \n",
      "=================================================================\n",
      "Total params: 3453634 (13.17 MB)\n",
      "Trainable params: 3453634 (13.17 MB)\n",
      "Non-trainable params: 0 (0.00 Byte)\n",
      "_________________________________________________________________\n",
      "Alternate Lenet-5 CNN accuracy: 0.9844675064086914\n"
     ]
    }
   ],
   "source": [
    "model_alt_cnn2.summary()\n",
    "test_loss, test_accuracy = model_alt_cnn2.evaluate(test_rescale_ds, verbose=0)\n",
    "print(\"Alternate Lenet-5 CNN accuracy:\", test_accuracy)"
   ]
  },
  {
   "cell_type": "code",
   "execution_count": 44,
   "id": "a5538891-391c-432f-ad26-e3a32b3f830a",
   "metadata": {},
   "outputs": [
    {
     "ename": "FileNotFoundError",
     "evalue": "[Errno 2] No such file or directory: '../models/model_alt_cnn2.keras'",
     "output_type": "error",
     "traceback": [
      "\u001b[0;31m---------------------------------------------------------------------------\u001b[0m",
      "\u001b[0;31mFileNotFoundError\u001b[0m                         Traceback (most recent call last)",
      "Cell \u001b[0;32mIn[44], line 1\u001b[0m\n\u001b[0;32m----> 1\u001b[0m \u001b[43mmodel_alt_cnn2\u001b[49m\u001b[38;5;241;43m.\u001b[39;49m\u001b[43msave\u001b[49m\u001b[43m(\u001b[49m\u001b[38;5;124;43m'\u001b[39;49m\u001b[38;5;124;43m../models/model_alt_cnn2.keras\u001b[39;49m\u001b[38;5;124;43m'\u001b[39;49m\u001b[43m)\u001b[49m\n",
      "File \u001b[0;32m/usr/local/lib/python3.11/site-packages/keras/src/utils/traceback_utils.py:70\u001b[0m, in \u001b[0;36mfilter_traceback.<locals>.error_handler\u001b[0;34m(*args, **kwargs)\u001b[0m\n\u001b[1;32m     67\u001b[0m     filtered_tb \u001b[38;5;241m=\u001b[39m _process_traceback_frames(e\u001b[38;5;241m.\u001b[39m__traceback__)\n\u001b[1;32m     68\u001b[0m     \u001b[38;5;66;03m# To get the full stack trace, call:\u001b[39;00m\n\u001b[1;32m     69\u001b[0m     \u001b[38;5;66;03m# `tf.debugging.disable_traceback_filtering()`\u001b[39;00m\n\u001b[0;32m---> 70\u001b[0m     \u001b[38;5;28;01mraise\u001b[39;00m e\u001b[38;5;241m.\u001b[39mwith_traceback(filtered_tb) \u001b[38;5;28;01mfrom\u001b[39;00m \u001b[38;5;28;01mNone\u001b[39;00m\n\u001b[1;32m     71\u001b[0m \u001b[38;5;28;01mfinally\u001b[39;00m:\n\u001b[1;32m     72\u001b[0m     \u001b[38;5;28;01mdel\u001b[39;00m filtered_tb\n",
      "File \u001b[0;32m/usr/local/lib/python3.11/zipfile.py:1281\u001b[0m, in \u001b[0;36mZipFile.__init__\u001b[0;34m(self, file, mode, compression, allowZip64, compresslevel, strict_timestamps, metadata_encoding)\u001b[0m\n\u001b[1;32m   1279\u001b[0m \u001b[38;5;28;01mwhile\u001b[39;00m \u001b[38;5;28;01mTrue\u001b[39;00m:\n\u001b[1;32m   1280\u001b[0m     \u001b[38;5;28;01mtry\u001b[39;00m:\n\u001b[0;32m-> 1281\u001b[0m         \u001b[38;5;28mself\u001b[39m\u001b[38;5;241m.\u001b[39mfp \u001b[38;5;241m=\u001b[39m io\u001b[38;5;241m.\u001b[39mopen(file, filemode)\n\u001b[1;32m   1282\u001b[0m     \u001b[38;5;28;01mexcept\u001b[39;00m \u001b[38;5;167;01mOSError\u001b[39;00m:\n\u001b[1;32m   1283\u001b[0m         \u001b[38;5;28;01mif\u001b[39;00m filemode \u001b[38;5;129;01min\u001b[39;00m modeDict:\n",
      "\u001b[0;31mFileNotFoundError\u001b[0m: [Errno 2] No such file or directory: '../models/model_alt_cnn2.keras'"
     ]
    }
   ],
   "source": [
    "model_alt_cnn2.save('../models/model_alt_cnn2.keras')"
   ]
  },
  {
   "cell_type": "markdown",
   "id": "d76a3b3c-d761-44b8-a70d-a900fa553661",
   "metadata": {},
   "source": [
    "We can see that model 2 performs better, with an accuracy of 75.28%."
   ]
  }
 ],
 "metadata": {
  "kernelspec": {
   "display_name": "Python 3 (ipykernel)",
   "language": "python",
   "name": "python3"
  },
  "language_info": {
   "codemirror_mode": {
    "name": "ipython",
    "version": 3
   },
   "file_extension": ".py",
   "mimetype": "text/x-python",
   "name": "python",
   "nbconvert_exporter": "python",
   "pygments_lexer": "ipython3",
   "version": "3.11.1"
  }
 },
 "nbformat": 4,
 "nbformat_minor": 5
}
