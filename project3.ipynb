{
 "cells": [
  {
   "cell_type": "code",
   "execution_count": 1,
   "id": "ab978369-404b-4041-ba09-1aedad219108",
   "metadata": {},
   "outputs": [],
   "source": [
    "import shutil\n",
    "# loading data into python structures\n",
    "try:\n",
    "    shutil.rmtree(\".data/dnd-cnn-split/train\")\n",
    "    shutil.rmtree(\"data/dnd-cnn-split/test\")\n",
    "except:\n",
    "    pass"
   ]
  },
  {
   "cell_type": "code",
   "execution_count": 2,
   "id": "4ceb9e78-2964-4379-bfce-ffb2d48598cf",
   "metadata": {},
   "outputs": [],
   "source": [
    "import os\n",
    "# ensure directories exist\n",
    "from pathlib import Path\n",
    "\n",
    "Path(\"data/dnd-cnn-split/train/damage\").mkdir(parents=True, exist_ok=True)\n",
    "Path(\"data/dnd-cnn-split/train/no-damage\").mkdir(parents=True, exist_ok=True)\n",
    "\n",
    "Path(\"data/dnd-cnn-split/test/damage\").mkdir(parents=True, exist_ok=True)\n",
    "Path(\"data/dnd-cnn-split/test/no-damage\").mkdir(parents=True, exist_ok=True)\n"
   ]
  },
  {
   "cell_type": "code",
   "execution_count": 3,
   "id": "07c89f08-7a51-4f0e-8e78-a5d2782ab938",
   "metadata": {},
   "outputs": [],
   "source": [
    "all_damage_file_paths = os.listdir('dataset/Project3/damage')\n",
    "all_no_damage_file_paths = os.listdir('dataset/Project3/no_damage')"
   ]
  },
  {
   "cell_type": "code",
   "execution_count": 4,
   "id": "9426a554-a179-433d-b0d8-8487fd937181",
   "metadata": {},
   "outputs": [
    {
     "name": "stdout",
     "output_type": "stream",
     "text": [
      "train damage image count:  11336\n",
      "test damage image count:  2834\n",
      "len of overlap:  0\n",
      "train no damage image count:  5721\n",
      "test no damage image count:  1431\n",
      "len of overlap:  0\n"
     ]
    }
   ],
   "source": [
    "import random\n",
    "\n",
    "train_damage_paths = random.sample(all_damage_file_paths, int(len(all_damage_file_paths)*0.8))\n",
    "print(\"train damage image count: \", len(train_damage_paths))\n",
    "test_damage_paths = [ p for p in all_damage_file_paths if p not in train_damage_paths]\n",
    "print(\"test damage image count: \", len(test_damage_paths))\n",
    "# ensure no overlap:\n",
    "overlap = [p for p in train_damage_paths if p in test_damage_paths]\n",
    "print(\"len of overlap: \", len(overlap))\n",
    "\n",
    "\n",
    "train_no_damage_paths = random.sample(all_no_damage_file_paths, int(len(all_no_damage_file_paths)*0.8))\n",
    "print(\"train no damage image count: \", len(train_no_damage_paths))\n",
    "test_no_damage_paths = [ p for p in all_no_damage_file_paths if p not in train_no_damage_paths]\n",
    "print(\"test no damage image count: \", len(test_no_damage_paths))\n",
    "# ensure no overlap:\n",
    "overlap = [p for p in train_no_damage_paths if p in test_no_damage_paths]\n",
    "print(\"len of overlap: \", len(overlap))\n"
   ]
  },
  {
   "cell_type": "code",
   "execution_count": 5,
   "id": "3ec6cd95-9c20-4cd5-be58-8db0a40f8b4e",
   "metadata": {},
   "outputs": [
    {
     "name": "stdout",
     "output_type": "stream",
     "text": [
      "Files in train/damage:  14170\n",
      "Files in train/no-damage:  7152\n",
      "Files in test/damage:  13028\n",
      "Files in test/no-damage:  6510\n"
     ]
    }
   ],
   "source": [
    "# ensure to copy the images to the directories\n",
    "import shutil\n",
    "for p in train_damage_paths:\n",
    "    shutil.copyfile(os.path.join('dataset/Project3/damage', p), os.path.join('data/dnd-cnn-split/train/damage', p) )\n",
    "\n",
    "for p in test_damage_paths:\n",
    "    shutil.copyfile(os.path.join('dataset/Project3/damage', p), os.path.join('data/dnd-cnn-split/test/damage', p) )\n",
    "\n",
    "for p in train_no_damage_paths:\n",
    "    shutil.copyfile(os.path.join('dataset/Project3/no_damage', p), os.path.join('data/dnd-cnn-split/train/no-damage', p) )\n",
    "\n",
    "for p in test_no_damage_paths:\n",
    "    shutil.copyfile(os.path.join('dataset/Project3/no_damage', p), os.path.join('data/dnd-cnn-split/test/no-damage', p) )\n",
    "\n",
    "\n",
    "\n",
    "# check counts:\n",
    "print(\"Files in train/damage: \", len(os.listdir(\"data/dnd-cnn-split/train/damage\")))\n",
    "print(\"Files in train/no-damage: \", len(os.listdir(\"data/dnd-cnn-split/train/no-damage\")))\n",
    "\n",
    "print(\"Files in test/damage: \", len(os.listdir(\"data/dnd-cnn-split/test/damage\")))\n",
    "print(\"Files in test/no-damage: \", len(os.listdir(\"data/dnd-cnn-split/test/no-damage\")))\n",
    "\n",
    "# shape of damage and no damage training/testing files\n"
   ]
  },
  {
   "cell_type": "code",
   "execution_count": 6,
   "id": "a0957bff-e5f9-4b95-b5ea-ae0867c4d361",
   "metadata": {},
   "outputs": [
    {
     "name": "stderr",
     "output_type": "stream",
     "text": [
      "2025-04-09 21:43:28.913039: I external/local_tsl/tsl/cuda/cudart_stub.cc:31] Could not find cuda drivers on your machine, GPU will not be used.\n",
      "2025-04-09 21:43:28.962337: E external/local_xla/xla/stream_executor/cuda/cuda_dnn.cc:9261] Unable to register cuDNN factory: Attempting to register factory for plugin cuDNN when one has already been registered\n",
      "2025-04-09 21:43:28.962402: E external/local_xla/xla/stream_executor/cuda/cuda_fft.cc:607] Unable to register cuFFT factory: Attempting to register factory for plugin cuFFT when one has already been registered\n",
      "2025-04-09 21:43:28.965056: E external/local_xla/xla/stream_executor/cuda/cuda_blas.cc:1515] Unable to register cuBLAS factory: Attempting to register factory for plugin cuBLAS when one has already been registered\n",
      "2025-04-09 21:43:28.975064: I external/local_tsl/tsl/cuda/cudart_stub.cc:31] Could not find cuda drivers on your machine, GPU will not be used.\n",
      "2025-04-09 21:43:28.977012: I tensorflow/core/platform/cpu_feature_guard.cc:182] This TensorFlow binary is optimized to use available CPU instructions in performance-critical operations.\n",
      "To enable the following instructions: AVX2 FMA, in other operations, rebuild TensorFlow with the appropriate compiler flags.\n",
      "2025-04-09 21:43:29.987483: W tensorflow/compiler/tf2tensorrt/utils/py_utils.cc:38] TF-TRT Warning: Could not find TensorRT\n"
     ]
    },
    {
     "name": "stdout",
     "output_type": "stream",
     "text": [
      "Found 21322 files belonging to 2 classes.\n",
      "Using 17058 files for training.\n",
      "Using 4264 files for validation.\n"
     ]
    }
   ],
   "source": [
    "import tensorflow as tf\n",
    "import tensorflow_datasets as tfds\n",
    "from tensorflow.keras.layers.experimental.preprocessing import Rescaling\n",
    "\n",
    "# path to training data\n",
    "train_data_dir = 'data/dnd-cnn-split/train'\n",
    "\n",
    "# controls the size of the \"batches\" of images streamed when accessing the datasets.\n",
    "# this is useful to control the memory usage with very large datasets\n",
    "batch_size = 32\n",
    "\n",
    "# target image size\n",
    "img_height = 150\n",
    "img_width = 150\n",
    "\n",
    "# note that the subset parameter can take values of \"training\", \"validation\", or \"both\";\n",
    "# the value dictates which dataset is returned (we want both)\n",
    "train_ds, val_ds = tf.keras.utils.image_dataset_from_directory(\n",
    "    train_data_dir,\n",
    "    validation_split=0.2,\n",
    "    subset=\"both\",\n",
    "    seed=123,\n",
    "    image_size=(img_height, img_width),\n",
    "    batch_size=batch_size\n",
    ")\n",
    "# rescale instance\n",
    "rescale = Rescaling(scale=1.0/255)\n",
    "\n",
    "# apply the rescale to the train and validation sets\n",
    "train_rescale_ds = train_ds.map(lambda image,label:(rescale(image),label))\n",
    "val_rescale_ds = val_ds.map(lambda image,label:(rescale(image),label))\n"
   ]
  },
  {
   "cell_type": "code",
   "execution_count": 7,
   "id": "e2c58571-6f2e-4522-a661-c77acdd4904e",
   "metadata": {},
   "outputs": [
    {
     "name": "stdout",
     "output_type": "stream",
     "text": [
      "Found 19538 files belonging to 2 classes.\n"
     ]
    }
   ],
   "source": [
    "# path to test data\n",
    "test_data_dir = 'data/dnd-cnn-split/test/'\n",
    "\n",
    "# we do not set subset=both here because we do not want the test set split\n",
    "test_ds = tf.keras.utils.image_dataset_from_directory(\n",
    "    test_data_dir,\n",
    "    seed=123,\n",
    "    image_size=(img_height, img_width),\n",
    ")\n",
    "\n",
    "# approach 1: manually rescale data --\n",
    "rescale = Rescaling(scale=1.0/255)\n",
    "test_rescale_ds = test_ds.map(lambda image,label:(rescale(image),label))"
   ]
  },
  {
   "cell_type": "code",
   "execution_count": 8,
   "id": "5d28f9eb-edee-48ef-9bb1-58d238e95117",
   "metadata": {},
   "outputs": [
    {
     "name": "stdout",
     "output_type": "stream",
     "text": [
      "Train batch shape: (32, 150, 150, 3)\n",
      "Train labels shape: (32,)\n"
     ]
    }
   ],
   "source": [
    "for images, labels in train_ds.take(1):  # Take one batch\n",
    "    print(\"Train batch shape:\", images.shape)  # Shape: (batch_size, height, width, channels)\n",
    "    print(\"Train labels shape:\", labels.shape)  # Shape: (batch_size,)\n"
   ]
  },
  {
   "cell_type": "code",
   "execution_count": 9,
   "id": "4b9aa123-cd03-4cfc-af22-80e0713489dd",
   "metadata": {},
   "outputs": [
    {
     "name": "stdout",
     "output_type": "stream",
     "text": [
      "Test batch shape: (32, 150, 150, 3)\n",
      "Test labels shape: (32,)\n"
     ]
    }
   ],
   "source": [
    "for images, labels in test_ds.take(1):\n",
    "    print(\"Test batch shape:\", images.shape)\n",
    "    print(\"Test labels shape:\", labels.shape)\n"
   ]
  },
  {
   "cell_type": "code",
   "execution_count": 10,
   "id": "f31f4a1e-e455-45bb-8877-7f9a51870a17",
   "metadata": {},
   "outputs": [
    {
     "name": "stdout",
     "output_type": "stream",
     "text": [
      "Label for each of the above images: [0 1 1 1 0]\n"
     ]
    },
    {
     "data": {
      "image/png": "[encoded data removed]",
      "text/plain": [
       "<Figure size 1000x200 with 5 Axes>"
      ]
     },
     "metadata": {},
     "output_type": "display_data"
    }
   ],
   "source": [
    "import matplotlib.pyplot as plt\n",
    "\n",
    "# Get one batch of images and labels from the rescaled dataset\n",
    "for images, labels in train_rescale_ds.take(1):  \n",
    "    X_train_batch = images.numpy()  # Convert to NumPy array\n",
    "    y_train_batch = labels.numpy()  # Convert labels to NumPy\n",
    "    break\n",
    "\n",
    "# Plot the first 5 images\n",
    "plt.figure(figsize=(10, 2))\n",
    "for i in range(5):\n",
    "    plt.subplot(1, 5, i+1)\n",
    "    plt.imshow(X_train_batch[i])  # No need for uint8 conversion since values are [0,1]\n",
    "    plt.axis(\"off\")\n",
    "\n",
    "print('Label for each of the above images:', y_train_batch[:5])\n"
   ]
  },
  {
   "cell_type": "code",
   "execution_count": 11,
   "id": "fb5631ef-ec8a-4280-83d8-68520f82f0bc",
   "metadata": {},
   "outputs": [
    {
     "name": "stdout",
     "output_type": "stream",
     "text": [
      "Model: \"sequential\"\n",
      "_________________________________________________________________\n",
      " Layer (type)                Output Shape              Param #   \n",
      "=================================================================\n",
      " flatten (Flatten)           (None, 67500)             0         \n",
      "                                                                 \n",
      " dense (Dense)               (None, 128)               8640128   \n",
      "                                                                 \n",
      " dense_1 (Dense)             (None, 1)                 129       \n",
      "                                                                 \n",
      "=================================================================\n",
      "Total params: 8640257 (32.96 MB)\n",
      "Trainable params: 8640257 (32.96 MB)\n",
      "Non-trainable params: 0 (0.00 Byte)\n",
      "_________________________________________________________________\n"
     ]
    }
   ],
   "source": [
    "# try different layers and perceptrons to choose the best combination for accuracy\n",
    "\n",
    "# case 1 (one layer)\n",
    "\n",
    "from tensorflow.keras.models import Sequential\n",
    "from tensorflow.keras.layers import Dense, Flatten\n",
    "from tensorflow.keras.optimizers import Adam\n",
    "\n",
    "# Define the model\n",
    "model = Sequential([\n",
    "    Flatten(input_shape=(150, 150, 3)),  # Flatten the image (150x150 RGB)\n",
    "    Dense(128, activation='relu'),  # Hidden layer with ReLU\n",
    "    Dense(1, activation='sigmoid')  # Output layer for binary classification\n",
    "])\n",
    "\n",
    "# Compile the model\n",
    "model.compile(optimizer=Adam(),\n",
    "              loss='binary_crossentropy',  # Binary classification loss\n",
    "              metrics=['accuracy'])\n",
    "\n",
    "# Print model summary\n",
    "model.summary()\n"
   ]
  },
  {
   "cell_type": "code",
   "execution_count": 12,
   "id": "49b5662e-f9fa-480d-bf6c-db7a0f8a5dd9",
   "metadata": {},
   "outputs": [
    {
     "name": "stdout",
     "output_type": "stream",
     "text": [
      "Epoch 1/20\n",
      "534/534 [==============================] - 32s 59ms/step - loss: 0.8201 - accuracy: 0.6571 - val_loss: 0.5792 - val_accuracy: 0.7019\n",
      "Epoch 2/20\n",
      "534/534 [==============================] - 33s 61ms/step - loss: 0.5773 - accuracy: 0.7162 - val_loss: 0.6919 - val_accuracy: 0.6597\n",
      "Epoch 3/20\n",
      "534/534 [==============================] - 33s 62ms/step - loss: 0.5596 - accuracy: 0.7298 - val_loss: 0.5637 - val_accuracy: 0.7205\n",
      "Epoch 4/20\n",
      "534/534 [==============================] - 33s 62ms/step - loss: 0.5559 - accuracy: 0.7361 - val_loss: 0.6075 - val_accuracy: 0.6604\n",
      "Epoch 5/20\n",
      "534/534 [==============================] - 33s 62ms/step - loss: 0.5510 - accuracy: 0.7347 - val_loss: 0.5619 - val_accuracy: 0.7226\n",
      "Epoch 6/20\n",
      "534/534 [==============================] - 34s 63ms/step - loss: 0.5504 - accuracy: 0.7331 - val_loss: 0.5639 - val_accuracy: 0.7181\n",
      "Epoch 7/20\n",
      "534/534 [==============================] - 33s 62ms/step - loss: 0.5407 - accuracy: 0.7416 - val_loss: 0.5939 - val_accuracy: 0.6499\n",
      "Epoch 8/20\n",
      "534/534 [==============================] - 33s 62ms/step - loss: 0.5748 - accuracy: 0.6682 - val_loss: 0.5813 - val_accuracy: 0.6499\n",
      "Epoch 9/20\n",
      "534/534 [==============================] - 33s 62ms/step - loss: 0.5481 - accuracy: 0.7266 - val_loss: 0.5389 - val_accuracy: 0.7516\n",
      "Epoch 10/20\n",
      "534/534 [==============================] - 33s 62ms/step - loss: 0.5333 - accuracy: 0.7437 - val_loss: 0.6199 - val_accuracy: 0.6480\n",
      "Epoch 11/20\n",
      "534/534 [==============================] - 33s 62ms/step - loss: 0.5693 - accuracy: 0.6678 - val_loss: 0.5823 - val_accuracy: 0.6499\n",
      "Epoch 12/20\n",
      "534/534 [==============================] - 33s 62ms/step - loss: 0.5613 - accuracy: 0.6803 - val_loss: 0.5849 - val_accuracy: 0.7003\n",
      "Epoch 13/20\n",
      "534/534 [==============================] - 33s 62ms/step - loss: 0.5589 - accuracy: 0.7344 - val_loss: 0.5844 - val_accuracy: 0.6961\n",
      "Epoch 14/20\n",
      "534/534 [==============================] - 33s 63ms/step - loss: 0.5586 - accuracy: 0.7331 - val_loss: 0.5887 - val_accuracy: 0.7000\n",
      "Epoch 15/20\n",
      "534/534 [==============================] - 33s 62ms/step - loss: 0.5536 - accuracy: 0.7398 - val_loss: 0.5750 - val_accuracy: 0.7188\n",
      "Epoch 16/20\n",
      "534/534 [==============================] - 32s 60ms/step - loss: 0.5554 - accuracy: 0.7330 - val_loss: 0.5755 - val_accuracy: 0.7158\n",
      "Epoch 17/20\n",
      "534/534 [==============================] - 33s 62ms/step - loss: 0.5492 - accuracy: 0.7459 - val_loss: 0.5658 - val_accuracy: 0.7437\n",
      "Epoch 18/20\n",
      "534/534 [==============================] - 32s 60ms/step - loss: 0.5459 - accuracy: 0.7419 - val_loss: 0.5728 - val_accuracy: 0.7179\n",
      "Epoch 19/20\n",
      "534/534 [==============================] - 33s 62ms/step - loss: 0.5423 - accuracy: 0.7465 - val_loss: 0.6084 - val_accuracy: 0.6635\n",
      "Epoch 20/20\n",
      "534/534 [==============================] - 33s 61ms/step - loss: 0.5466 - accuracy: 0.7415 - val_loss: 0.5804 - val_accuracy: 0.7080\n"
     ]
    }
   ],
   "source": [
    "# Train the model\n",
    "history = model.fit(\n",
    "    train_rescale_ds,\n",
    "    validation_data=val_rescale_ds,\n",
    "    epochs=20,  # Can be adjusted\n",
    "    batch_size=32,\n",
    "    verbose=1\n",
    ")\n"
   ]
  },
  {
   "cell_type": "code",
   "execution_count": 13,
   "id": "d8cd99e2-05d2-4011-964a-ed90b1dc7279",
   "metadata": {},
   "outputs": [
    {
     "name": "stdout",
     "output_type": "stream",
     "text": [
      "611/611 [==============================] - 4s 6ms/step - loss: 0.5498 - accuracy: 0.7237\n",
      "Test Loss: 0.5498\n",
      "Test Accuracy: 0.7237\n"
     ]
    }
   ],
   "source": [
    "# Evaluate on test set\n",
    "test_loss, test_acc = model.evaluate(test_rescale_ds)\n",
    "print(f\"Test Loss: {test_loss:.4f}\")\n",
    "print(f\"Test Accuracy: {test_acc:}\")\n"
   ]
  },
  {
   "cell_type": "code",
   "execution_count": 14,
   "id": "650e2ce1-d5bb-4031-bb70-f98060fdc8c3",
   "metadata": {},
   "outputs": [
    {
     "name": "stdout",
     "output_type": "stream",
     "text": [
      "Model: \"sequential_1\"\n",
      "_________________________________________________________________\n",
      " Layer (type)                Output Shape              Param #   \n",
      "=================================================================\n",
      " flatten_1 (Flatten)         (None, 67500)             0         \n",
      "                                                                 \n",
      " dense_2 (Dense)             (None, 512)               34560512  \n",
      "                                                                 \n",
      " dense_3 (Dense)             (None, 256)               131328    \n",
      "                                                                 \n",
      " dense_4 (Dense)             (None, 1)                 257       \n",
      "                                                                 \n",
      "=================================================================\n",
      "Total params: 34692097 (132.34 MB)\n",
      "Trainable params: 34692097 (132.34 MB)\n",
      "Non-trainable params: 0 (0.00 Byte)\n",
      "_________________________________________________________________\n"
     ]
    }
   ],
   "source": [
    "from tensorflow.keras.models import Sequential\n",
    "from tensorflow.keras.layers import Dense, Flatten\n",
    "from tensorflow.keras.optimizers import Adam\n",
    "\n",
    "# case 2 (two layers, adjusted perceptron count)\n",
    "\n",
    "# Define the model\n",
    "model2 = Sequential([\n",
    "    Flatten(input_shape=(150, 150, 3)),  # Flatten the image (150x150 RGB)\n",
    "    Dense(512, activation='relu'),  # Hidden layer with ReLU\n",
    "    Dense(256, activation='relu'),   # Another hidden layer\n",
    "    Dense(1, activation='sigmoid')  # Output layer for binary classification\n",
    "])\n",
    "\n",
    "# Compile the model\n",
    "model2.compile(optimizer=Adam(),\n",
    "              loss='binary_crossentropy',  # Binary classification loss\n",
    "              metrics=['accuracy'])\n",
    "\n",
    "# Print model summary\n",
    "model2.summary()\n"
   ]
  },
  {
   "cell_type": "code",
   "execution_count": 15,
   "id": "d28f274b-9ab3-4051-a3f2-97dd1520df39",
   "metadata": {},
   "outputs": [
    {
     "name": "stdout",
     "output_type": "stream",
     "text": [
      "Epoch 1/20\n",
      "534/534 [==============================] - 114s 211ms/step - loss: 1.1756 - accuracy: 0.6627 - val_loss: 0.6050 - val_accuracy: 0.6747\n",
      "Epoch 2/20\n",
      "534/534 [==============================] - 112s 210ms/step - loss: 0.5991 - accuracy: 0.6971 - val_loss: 0.5985 - val_accuracy: 0.6771\n",
      "Epoch 3/20\n",
      "534/534 [==============================] - 112s 210ms/step - loss: 0.5598 - accuracy: 0.7278 - val_loss: 0.5618 - val_accuracy: 0.7106\n",
      "Epoch 4/20\n",
      "534/534 [==============================] - 113s 211ms/step - loss: 0.5724 - accuracy: 0.7030 - val_loss: 0.6154 - val_accuracy: 0.6834\n",
      "Epoch 5/20\n",
      "534/534 [==============================] - 112s 210ms/step - loss: 0.6007 - accuracy: 0.6623 - val_loss: 0.6118 - val_accuracy: 0.6499\n",
      "Epoch 6/20\n",
      "534/534 [==============================] - 112s 210ms/step - loss: 0.5988 - accuracy: 0.6629 - val_loss: 0.5830 - val_accuracy: 0.6499\n",
      "Epoch 7/20\n",
      "534/534 [==============================] - 113s 211ms/step - loss: 0.5842 - accuracy: 0.6902 - val_loss: 0.5665 - val_accuracy: 0.7308\n",
      "Epoch 8/20\n",
      "534/534 [==============================] - 113s 212ms/step - loss: 0.5805 - accuracy: 0.7088 - val_loss: 0.5700 - val_accuracy: 0.7317\n",
      "Epoch 9/20\n",
      "534/534 [==============================] - 113s 211ms/step - loss: 0.5852 - accuracy: 0.7019 - val_loss: 0.5719 - val_accuracy: 0.7296\n",
      "Epoch 10/20\n",
      "534/534 [==============================] - 113s 211ms/step - loss: 0.5745 - accuracy: 0.7026 - val_loss: 0.5860 - val_accuracy: 0.6735\n",
      "Epoch 11/20\n",
      "534/534 [==============================] - 113s 211ms/step - loss: 0.5835 - accuracy: 0.6904 - val_loss: 0.5950 - val_accuracy: 0.7348\n",
      "Epoch 12/20\n",
      "534/534 [==============================] - 112s 210ms/step - loss: 0.5713 - accuracy: 0.7163 - val_loss: 0.5695 - val_accuracy: 0.7319\n",
      "Epoch 13/20\n",
      "534/534 [==============================] - 112s 211ms/step - loss: 0.5666 - accuracy: 0.7222 - val_loss: 0.6007 - val_accuracy: 0.7033\n",
      "Epoch 14/20\n",
      "534/534 [==============================] - 112s 209ms/step - loss: 0.5724 - accuracy: 0.7181 - val_loss: 0.6071 - val_accuracy: 0.6560\n",
      "Epoch 15/20\n",
      "534/534 [==============================] - 112s 210ms/step - loss: 0.5628 - accuracy: 0.7297 - val_loss: 0.5627 - val_accuracy: 0.7287\n",
      "Epoch 16/20\n",
      "534/534 [==============================] - 112s 210ms/step - loss: 0.5587 - accuracy: 0.7347 - val_loss: 0.6262 - val_accuracy: 0.6841\n",
      "Epoch 17/20\n",
      "534/534 [==============================] - 112s 209ms/step - loss: 0.5673 - accuracy: 0.7272 - val_loss: 0.6192 - val_accuracy: 0.6529\n",
      "Epoch 18/20\n",
      "534/534 [==============================] - 112s 209ms/step - loss: 0.5600 - accuracy: 0.7241 - val_loss: 0.5654 - val_accuracy: 0.7111\n",
      "Epoch 19/20\n",
      "534/534 [==============================] - 112s 210ms/step - loss: 0.5665 - accuracy: 0.7225 - val_loss: 0.5717 - val_accuracy: 0.7115\n",
      "Epoch 20/20\n",
      "534/534 [==============================] - 113s 212ms/step - loss: 0.5659 - accuracy: 0.7227 - val_loss: 0.5704 - val_accuracy: 0.7451\n"
     ]
    }
   ],
   "source": [
    "# Train the model\n",
    "history = model2.fit(\n",
    "    train_rescale_ds,\n",
    "    validation_data=val_rescale_ds,\n",
    "    epochs=20,  # Can be adjusted\n",
    "    batch_size=32,\n",
    "    verbose=1\n",
    ")\n"
   ]
  },
  {
   "cell_type": "code",
   "execution_count": 16,
   "id": "ffd1e39a-f82c-4854-8de3-e3fb20352ec3",
   "metadata": {},
   "outputs": [
    {
     "name": "stdout",
     "output_type": "stream",
     "text": [
      "611/611 [==============================] - 9s 14ms/step - loss: 0.5472 - accuracy: 0.7590\n",
      "Test Loss: 0.5472\n",
      "Test Accuracy: 0.7590\n"
     ]
    }
   ],
   "source": [
    "# Evaluate on test set\n",
    "test_loss, test_acc = model2.evaluate(test_rescale_ds)\n",
    "print(f\"Test Loss: {test_loss:.4f}\")\n",
    "print(f\"Test Accuracy: {test_acc:}\")\n"
   ]
  },
  {
   "cell_type": "code",
   "execution_count": 17,
   "id": "b200c5b1-51b9-4022-8df6-ad0852dd8c0d",
   "metadata": {},
   "outputs": [
    {
     "name": "stdout",
     "output_type": "stream",
     "text": [
      "Model: \"sequential_2\"\n",
      "_________________________________________________________________\n",
      " Layer (type)                Output Shape              Param #   \n",
      "=================================================================\n",
      " flatten_2 (Flatten)         (None, 67500)             0         \n",
      "                                                                 \n",
      " dense_5 (Dense)             (None, 512)               34560512  \n",
      "                                                                 \n",
      " dense_6 (Dense)             (None, 256)               131328    \n",
      "                                                                 \n",
      " dense_7 (Dense)             (None, 128)               32896     \n",
      "                                                                 \n",
      " dense_8 (Dense)             (None, 1)                 129       \n",
      "                                                                 \n",
      "=================================================================\n",
      "Total params: 34724865 (132.46 MB)\n",
      "Trainable params: 34724865 (132.46 MB)\n",
      "Non-trainable params: 0 (0.00 Byte)\n",
      "_________________________________________________________________\n"
     ]
    }
   ],
   "source": [
    "from tensorflow.keras.models import Sequential\n",
    "from tensorflow.keras.layers import Dense, Flatten\n",
    "from tensorflow.keras.optimizers import Adam\n",
    "\n",
    "# case 3 (3 layers)\n",
    "\n",
    "# Define the model\n",
    "model3 = Sequential([\n",
    "    Flatten(input_shape=(150, 150, 3)),  # Flatten the image (150x150 RGB)\n",
    "    Dense(512, activation='relu'),  # Hidden layer with ReLU\n",
    "    Dense(256, activation='relu'),   # Another hidden layer\n",
    "    Dense(128, activation='relu'),   # Another hidden layer\n",
    "    Dense(1, activation='sigmoid')  # Output layer for binary classification\n",
    "])\n",
    "\n",
    "# Compile the model\n",
    "model3.compile(optimizer=Adam(),\n",
    "              loss='binary_crossentropy',  # Binary classification loss\n",
    "              metrics=['accuracy'])\n",
    "\n",
    "# Print model summary\n",
    "model3.summary()\n"
   ]
  },
  {
   "cell_type": "code",
   "execution_count": 18,
   "id": "f5ff58bf-ca54-4bf9-bb72-c7d935bb72d2",
   "metadata": {},
   "outputs": [
    {
     "name": "stdout",
     "output_type": "stream",
     "text": [
      "Epoch 1/20\n",
      "534/534 [==============================] - 112s 209ms/step - loss: 0.9689 - accuracy: 0.6568 - val_loss: 0.6406 - val_accuracy: 0.6745\n",
      "Epoch 2/20\n",
      "534/534 [==============================] - 112s 210ms/step - loss: 0.5816 - accuracy: 0.7071 - val_loss: 0.8622 - val_accuracy: 0.6510\n",
      "Epoch 3/20\n",
      "534/534 [==============================] - 112s 210ms/step - loss: 0.6026 - accuracy: 0.6699 - val_loss: 0.6346 - val_accuracy: 0.6499\n",
      "Epoch 4/20\n",
      "534/534 [==============================] - 112s 209ms/step - loss: 0.5937 - accuracy: 0.6630 - val_loss: 0.5851 - val_accuracy: 0.6499\n",
      "Epoch 5/20\n",
      "534/534 [==============================] - 111s 208ms/step - loss: 0.5729 - accuracy: 0.7080 - val_loss: 0.7527 - val_accuracy: 0.6503\n",
      "Epoch 6/20\n",
      "534/534 [==============================] - 112s 209ms/step - loss: 0.5844 - accuracy: 0.6911 - val_loss: 0.5745 - val_accuracy: 0.7319\n",
      "Epoch 7/20\n",
      "534/534 [==============================] - 112s 209ms/step - loss: 0.5772 - accuracy: 0.7111 - val_loss: 0.6163 - val_accuracy: 0.6644\n",
      "Epoch 8/20\n",
      "534/534 [==============================] - 112s 209ms/step - loss: 0.5734 - accuracy: 0.7168 - val_loss: 0.5598 - val_accuracy: 0.7425\n",
      "Epoch 9/20\n",
      "534/534 [==============================] - 112s 210ms/step - loss: 0.5637 - accuracy: 0.7300 - val_loss: 0.5779 - val_accuracy: 0.7125\n",
      "Epoch 10/20\n",
      "534/534 [==============================] - 111s 207ms/step - loss: 0.5763 - accuracy: 0.7183 - val_loss: 0.5756 - val_accuracy: 0.7115\n",
      "Epoch 11/20\n",
      "534/534 [==============================] - 111s 208ms/step - loss: 0.5707 - accuracy: 0.7140 - val_loss: 0.5668 - val_accuracy: 0.7338\n",
      "Epoch 12/20\n",
      "534/534 [==============================] - 111s 207ms/step - loss: 0.5756 - accuracy: 0.6920 - val_loss: 0.6317 - val_accuracy: 0.6503\n",
      "Epoch 13/20\n",
      "534/534 [==============================] - 112s 210ms/step - loss: 0.5839 - accuracy: 0.6932 - val_loss: 0.5770 - val_accuracy: 0.7348\n",
      "Epoch 14/20\n",
      "534/534 [==============================] - 112s 209ms/step - loss: 0.5727 - accuracy: 0.7127 - val_loss: 0.5604 - val_accuracy: 0.7355\n",
      "Epoch 15/20\n",
      "534/534 [==============================] - 112s 210ms/step - loss: 0.5862 - accuracy: 0.6816 - val_loss: 0.5933 - val_accuracy: 0.7115\n",
      "Epoch 16/20\n",
      "534/534 [==============================] - 112s 210ms/step - loss: 0.5700 - accuracy: 0.7178 - val_loss: 0.6078 - val_accuracy: 0.6918\n",
      "Epoch 17/20\n",
      "534/534 [==============================] - 112s 209ms/step - loss: 0.5698 - accuracy: 0.7216 - val_loss: 0.6212 - val_accuracy: 0.6513\n",
      "Epoch 18/20\n",
      "534/534 [==============================] - 112s 209ms/step - loss: 0.5731 - accuracy: 0.7156 - val_loss: 0.5859 - val_accuracy: 0.6944\n",
      "Epoch 19/20\n",
      "534/534 [==============================] - 112s 210ms/step - loss: 0.5710 - accuracy: 0.7180 - val_loss: 0.5680 - val_accuracy: 0.7162\n",
      "Epoch 20/20\n",
      "534/534 [==============================] - 111s 209ms/step - loss: 0.5738 - accuracy: 0.7134 - val_loss: 0.5977 - val_accuracy: 0.6499\n"
     ]
    }
   ],
   "source": [
    "# Train the model\n",
    "history = model3.fit(\n",
    "    train_rescale_ds,\n",
    "    validation_data=val_rescale_ds,\n",
    "    epochs=20, \n",
    "    batch_size=32,\n",
    "    verbose=1\n",
    ")\n"
   ]
  },
  {
   "cell_type": "code",
   "execution_count": 19,
   "id": "f3e534f7-9988-43c3-9b6e-216a35eaff5d",
   "metadata": {},
   "outputs": [
    {
     "name": "stdout",
     "output_type": "stream",
     "text": [
      "611/611 [==============================] - 9s 14ms/step - loss: 0.5778 - accuracy: 0.6668\n",
      "Test Loss: 0.5778\n",
      "Test Accuracy: 0.6668\n"
     ]
    }
   ],
   "source": [
    "# Evaluate on test set\n",
    "test_loss, test_acc = model3.evaluate(test_rescale_ds)\n",
    "print(f\"Test Loss: {test_loss:.4f}\")\n",
    "print(f\"Test Accuracy: {test_acc:}\")"
   ]
  },
  {
   "cell_type": "code",
   "execution_count": 20,
   "id": "eeec17ae-96bf-49eb-bc49-51e239bd7438",
   "metadata": {},
   "outputs": [
    {
     "name": "stdout",
     "output_type": "stream",
     "text": [
      "Model: \"sequential_3\"\n",
      "_________________________________________________________________\n",
      " Layer (type)                Output Shape              Param #   \n",
      "=================================================================\n",
      " conv2d (Conv2D)             (None, 146, 146, 6)       456       \n",
      "                                                                 \n",
      " average_pooling2d (Average  (None, 73, 73, 6)         0         \n",
      " Pooling2D)                                                      \n",
      "                                                                 \n",
      " conv2d_1 (Conv2D)           (None, 69, 69, 16)        2416      \n",
      "                                                                 \n",
      " average_pooling2d_1 (Avera  (None, 34, 34, 16)        0         \n",
      " gePooling2D)                                                    \n",
      "                                                                 \n",
      " flatten_3 (Flatten)         (None, 18496)             0         \n",
      "                                                                 \n",
      " dense_9 (Dense)             (None, 120)               2219640   \n",
      "                                                                 \n",
      " dense_10 (Dense)            (None, 84)                10164     \n",
      "                                                                 \n",
      " dense_11 (Dense)            (None, 2)                 170       \n",
      "                                                                 \n",
      "=================================================================\n",
      "Total params: 2232846 (8.52 MB)\n",
      "Trainable params: 2232846 (8.52 MB)\n",
      "Non-trainable params: 0 (0.00 Byte)\n",
      "_________________________________________________________________\n"
     ]
    }
   ],
   "source": [
    "import tensorflow as tf\n",
    "from tensorflow.keras import models, layers  # Following lab's import style\n",
    "from tensorflow.keras.optimizers import RMSprop\n",
    "import matplotlib.pyplot as plt\n",
    "\n",
    "#Variant 1: Baseline LeNet-5 with 6 and 16 filters, 120 and 84 neurons.\n",
    "\n",
    "# Define input shape and number of classes for your dataset\n",
    "input_shape = (150, 150, 3)  # Your 150x150 RGB images\n",
    "num_classes = 2  # damage/no-damage\n",
    "model_lenet5 = models.Sequential()\n",
    "\n",
    "# Layer 1\n",
    "model_lenet5.add(layers.Conv2D(6, kernel_size=(5, 5), activation='relu', input_shape=input_shape))\n",
    "model_lenet5.add(layers.AveragePooling2D(pool_size=(2, 2)))\n",
    "\n",
    "# Layer 2\n",
    "model_lenet5.add(layers.Conv2D(16, kernel_size=(5, 5), activation='relu'))\n",
    "model_lenet5.add(layers.AveragePooling2D(pool_size=(2, 2)))\n",
    "\n",
    "model_lenet5.add(layers.Flatten())  \n",
    "\n",
    "# Layer 3\n",
    "model_lenet5.add(layers.Dense(120, activation='relu'))\n",
    "\n",
    "# Layer 4\n",
    "model_lenet5.add(layers.Dense(84, activation='relu'))\n",
    "\n",
    "# Output layer\n",
    "model_lenet5.add(layers.Dense(num_classes, activation='softmax'))\n",
    "\n",
    "model_lenet5.compile(optimizer=RMSprop(learning_rate=1e-4),\n",
    "                     loss='sparse_categorical_crossentropy',\n",
    "                     metrics=['accuracy'])\n",
    "model_lenet5.summary()"
   ]
  },
  {
   "cell_type": "code",
   "execution_count": 21,
   "id": "b6b0f61d-5fc0-43db-b6ea-3bbeba92d4eb",
   "metadata": {},
   "outputs": [
    {
     "name": "stdout",
     "output_type": "stream",
     "text": [
      "Epoch 1/20\n",
      "534/534 [==============================] - 76s 141ms/step - loss: 0.4961 - accuracy: 0.7704 - val_loss: 0.5617 - val_accuracy: 0.7380\n",
      "Epoch 2/20\n",
      "534/534 [==============================] - 75s 141ms/step - loss: 0.3621 - accuracy: 0.8574 - val_loss: 0.3312 - val_accuracy: 0.8712\n",
      "Epoch 3/20\n",
      "534/534 [==============================] - 76s 143ms/step - loss: 0.3039 - accuracy: 0.8788 - val_loss: 0.3220 - val_accuracy: 0.8687\n",
      "Epoch 4/20\n",
      "534/534 [==============================] - 75s 140ms/step - loss: 0.2585 - accuracy: 0.8953 - val_loss: 0.2631 - val_accuracy: 0.8977\n",
      "Epoch 5/20\n",
      "534/534 [==============================] - 76s 141ms/step - loss: 0.2200 - accuracy: 0.9125 - val_loss: 0.5069 - val_accuracy: 0.7777\n",
      "Epoch 6/20\n",
      "534/534 [==============================] - 74s 139ms/step - loss: 0.1935 - accuracy: 0.9209 - val_loss: 0.3206 - val_accuracy: 0.8633\n",
      "Epoch 7/20\n",
      "534/534 [==============================] - 75s 140ms/step - loss: 0.1745 - accuracy: 0.9312 - val_loss: 0.3109 - val_accuracy: 0.8637\n",
      "Epoch 8/20\n",
      "534/534 [==============================] - 77s 145ms/step - loss: 0.1591 - accuracy: 0.9372 - val_loss: 0.3048 - val_accuracy: 0.8712\n",
      "Epoch 9/20\n",
      "534/534 [==============================] - 77s 145ms/step - loss: 0.1446 - accuracy: 0.9427 - val_loss: 0.1655 - val_accuracy: 0.9292\n",
      "Epoch 10/20\n",
      "534/534 [==============================] - 80s 150ms/step - loss: 0.1299 - accuracy: 0.9485 - val_loss: 0.2390 - val_accuracy: 0.9078\n",
      "Epoch 11/20\n",
      "534/534 [==============================] - 79s 147ms/step - loss: 0.1205 - accuracy: 0.9539 - val_loss: 0.1675 - val_accuracy: 0.9343\n",
      "Epoch 12/20\n",
      "534/534 [==============================] - 81s 151ms/step - loss: 0.1097 - accuracy: 0.9583 - val_loss: 0.1761 - val_accuracy: 0.9357\n",
      "Epoch 13/20\n",
      "534/534 [==============================] - 79s 147ms/step - loss: 0.0991 - accuracy: 0.9616 - val_loss: 0.1604 - val_accuracy: 0.9364\n",
      "Epoch 14/20\n",
      "534/534 [==============================] - 77s 144ms/step - loss: 0.0899 - accuracy: 0.9668 - val_loss: 0.1552 - val_accuracy: 0.9390\n",
      "Epoch 15/20\n",
      "534/534 [==============================] - 78s 145ms/step - loss: 0.0827 - accuracy: 0.9681 - val_loss: 0.1974 - val_accuracy: 0.9238\n",
      "Epoch 16/20\n",
      "534/534 [==============================] - 78s 145ms/step - loss: 0.0738 - accuracy: 0.9726 - val_loss: 0.2194 - val_accuracy: 0.9273\n",
      "Epoch 17/20\n",
      "534/534 [==============================] - 77s 145ms/step - loss: 0.0684 - accuracy: 0.9763 - val_loss: 0.1573 - val_accuracy: 0.9400\n",
      "Epoch 18/20\n",
      "534/534 [==============================] - 80s 149ms/step - loss: 0.0595 - accuracy: 0.9797 - val_loss: 0.1608 - val_accuracy: 0.9414\n",
      "Epoch 19/20\n",
      "534/534 [==============================] - 77s 145ms/step - loss: 0.0529 - accuracy: 0.9820 - val_loss: 0.1677 - val_accuracy: 0.9418\n",
      "Epoch 20/20\n",
      "534/534 [==============================] - 80s 149ms/step - loss: 0.0467 - accuracy: 0.9841 - val_loss: 0.1941 - val_accuracy: 0.9360\n"
     ]
    }
   ],
   "source": [
    "# Fit the model using your preprocessed datasets\n",
    "history = model_lenet5.fit(\n",
    "    train_rescale_ds,\n",
    "    batch_size=32,  # Matches your dataset's batch size\n",
    "    epochs=20,      # Matches lab's epoch count\n",
    "    validation_data=val_rescale_ds\n",
    ")"
   ]
  },
  {
   "cell_type": "code",
   "execution_count": 22,
   "id": "1a5715c8-abb2-4bc7-9b7c-bed5c3b36f72",
   "metadata": {},
   "outputs": [
    {
     "name": "stdout",
     "output_type": "stream",
     "text": [
      "\n",
      "Test accuracy: 0.9791\n",
      "Test loss: 0.0639\n"
     ]
    }
   ],
   "source": [
    "# Evaluate on test set\n",
    "test_loss, test_accuracy = model_lenet5.evaluate(test_rescale_ds, verbose=0)\n",
    "print(f\"\\nTest accuracy: {test_accuracy:.4f}\")\n",
    "print(f\"Test loss: {test_loss:.4f}\")"
   ]
  },
  {
   "cell_type": "code",
   "execution_count": 23,
   "id": "5afa1e0a-5dc1-4ffb-b69a-2792b48dca3d",
   "metadata": {},
   "outputs": [
    {
     "name": "stdout",
     "output_type": "stream",
     "text": [
      "Model: \"sequential_4\"\n",
      "_________________________________________________________________\n",
      " Layer (type)                Output Shape              Param #   \n",
      "=================================================================\n",
      " conv2d_2 (Conv2D)           (None, 146, 146, 12)      912       \n",
      "                                                                 \n",
      " average_pooling2d_2 (Avera  (None, 73, 73, 12)        0         \n",
      " gePooling2D)                                                    \n",
      "                                                                 \n",
      " conv2d_3 (Conv2D)           (None, 69, 69, 32)        9632      \n",
      "                                                                 \n",
      " average_pooling2d_3 (Avera  (None, 34, 34, 32)        0         \n",
      " gePooling2D)                                                    \n",
      "                                                                 \n",
      " flatten_4 (Flatten)         (None, 36992)             0         \n",
      "                                                                 \n",
      " dense_12 (Dense)            (None, 120)               4439160   \n",
      "                                                                 \n",
      " dense_13 (Dense)            (None, 84)                10164     \n",
      "                                                                 \n",
      " dense_14 (Dense)            (None, 2)                 170       \n",
      "                                                                 \n",
      "=================================================================\n",
      "Total params: 4460038 (17.01 MB)\n",
      "Trainable params: 4460038 (17.01 MB)\n",
      "Non-trainable params: 0 (0.00 Byte)\n",
      "_________________________________________________________________\n",
      "Epoch 1/20\n",
      "534/534 [==============================] - 102s 190ms/step - loss: 0.5812 - accuracy: 0.7151 - val_loss: 0.9133 - val_accuracy: 0.6508\n",
      "Epoch 2/20\n",
      "534/534 [==============================] - 101s 189ms/step - loss: 0.4283 - accuracy: 0.8220 - val_loss: 0.4675 - val_accuracy: 0.8138\n",
      "Epoch 3/20\n",
      "534/534 [==============================] - 101s 189ms/step - loss: 0.3754 - accuracy: 0.8467 - val_loss: 0.5314 - val_accuracy: 0.7589\n",
      "Epoch 4/20\n",
      "534/534 [==============================] - 101s 189ms/step - loss: 0.3430 - accuracy: 0.8622 - val_loss: 0.3915 - val_accuracy: 0.8476\n",
      "Epoch 5/20\n",
      "534/534 [==============================] - 99s 184ms/step - loss: 0.3053 - accuracy: 0.8812 - val_loss: 0.4338 - val_accuracy: 0.8053\n",
      "Epoch 6/20\n",
      "534/534 [==============================] - 101s 189ms/step - loss: 0.2709 - accuracy: 0.8951 - val_loss: 0.2902 - val_accuracy: 0.8867\n",
      "Epoch 7/20\n",
      "534/534 [==============================] - 101s 189ms/step - loss: 0.2385 - accuracy: 0.9080 - val_loss: 0.2073 - val_accuracy: 0.9235\n",
      "Epoch 8/20\n",
      "534/534 [==============================] - 100s 187ms/step - loss: 0.2068 - accuracy: 0.9190 - val_loss: 0.2125 - val_accuracy: 0.9078\n",
      "Epoch 9/20\n",
      "534/534 [==============================] - 97s 182ms/step - loss: 0.1833 - accuracy: 0.9304 - val_loss: 0.2024 - val_accuracy: 0.9214\n",
      "Epoch 10/20\n",
      "534/534 [==============================] - 99s 185ms/step - loss: 0.1668 - accuracy: 0.9358 - val_loss: 0.4577 - val_accuracy: 0.8150\n",
      "Epoch 11/20\n",
      "534/534 [==============================] - 99s 186ms/step - loss: 0.1513 - accuracy: 0.9400 - val_loss: 0.2119 - val_accuracy: 0.9226\n",
      "Epoch 12/20\n",
      "534/534 [==============================] - 100s 188ms/step - loss: 0.1403 - accuracy: 0.9437 - val_loss: 0.4807 - val_accuracy: 0.8281\n",
      "Epoch 13/20\n",
      "534/534 [==============================] - 99s 185ms/step - loss: 0.1298 - accuracy: 0.9479 - val_loss: 0.1551 - val_accuracy: 0.9402\n",
      "Epoch 14/20\n",
      "534/534 [==============================] - 99s 185ms/step - loss: 0.1186 - accuracy: 0.9532 - val_loss: 0.1360 - val_accuracy: 0.9444\n",
      "Epoch 15/20\n",
      "534/534 [==============================] - 98s 184ms/step - loss: 0.1096 - accuracy: 0.9586 - val_loss: 0.3645 - val_accuracy: 0.8722\n",
      "Epoch 16/20\n",
      "534/534 [==============================] - 100s 186ms/step - loss: 0.1032 - accuracy: 0.9609 - val_loss: 0.1357 - val_accuracy: 0.9468\n",
      "Epoch 17/20\n",
      "534/534 [==============================] - 98s 184ms/step - loss: 0.0957 - accuracy: 0.9630 - val_loss: 0.2989 - val_accuracy: 0.8863\n",
      "Epoch 18/20\n",
      "534/534 [==============================] - 97s 182ms/step - loss: 0.0860 - accuracy: 0.9661 - val_loss: 0.1454 - val_accuracy: 0.9423\n",
      "Epoch 19/20\n",
      "534/534 [==============================] - 97s 181ms/step - loss: 0.0803 - accuracy: 0.9700 - val_loss: 0.1480 - val_accuracy: 0.9402\n",
      "Epoch 20/20\n",
      "534/534 [==============================] - 98s 183ms/step - loss: 0.0735 - accuracy: 0.9733 - val_loss: 0.1301 - val_accuracy: 0.9515\n"
     ]
    }
   ],
   "source": [
    "import tensorflow as tf\n",
    "from tensorflow.keras import models, layers  # Following lab's import style\n",
    "from tensorflow.keras.optimizers import RMSprop\n",
    "import matplotlib.pyplot as plt\n",
    "\n",
    "\n",
    "#Variant 2: Increases filters to 12 and 32 for more feature extraction capacity.\n",
    "\n",
    "# Define LeNet-5 with increased filters\n",
    "model_lenet5 = models.Sequential()\n",
    "\n",
    "# Layer 1\n",
    "model_lenet5.add(layers.Conv2D(12, kernel_size=(5, 5), activation='relu', input_shape=input_shape))\n",
    "model_lenet5.add(layers.AveragePooling2D(pool_size=(2, 2)))\n",
    "\n",
    "# Layer 2\n",
    "model_lenet5.add(layers.Conv2D(32, kernel_size=(5, 5), activation='relu'))\n",
    "model_lenet5.add(layers.AveragePooling2D(pool_size=(2, 2)))\n",
    "\n",
    "model_lenet5.add(layers.Flatten())  \n",
    "\n",
    "# Layer 3\n",
    "model_lenet5.add(layers.Dense(120, activation='relu'))\n",
    "\n",
    "# Layer 4\n",
    "model_lenet5.add(layers.Dense(84, activation='relu'))\n",
    "\n",
    "# Output layer\n",
    "model_lenet5.add(layers.Dense(num_classes, activation='softmax'))\n",
    "\n",
    "# Compile\n",
    "model_lenet5.compile(optimizer=RMSprop(learning_rate=1e-4),\n",
    "                     loss='sparse_categorical_crossentropy',\n",
    "                     metrics=['accuracy'])\n",
    "\n",
    "# Summary\n",
    "model_lenet5.summary()\n",
    "\n",
    "# Train\n",
    "history = model_lenet5.fit(\n",
    "    train_rescale_ds,\n",
    "    batch_size=32,\n",
    "    epochs=20,\n",
    "    validation_data=val_rescale_ds,\n",
    "    verbose=1\n",
    ")\n"
   ]
  },
  {
   "cell_type": "code",
   "execution_count": 24,
   "id": "f0091b2b-ab39-451f-bb8b-3aedb2eac57f",
   "metadata": {},
   "outputs": [
    {
     "name": "stdout",
     "output_type": "stream",
     "text": [
      "\n",
      "Variant 2 - Increased Filters\n",
      "Test accuracy: 0.9764\n",
      "Test loss: 0.0685\n"
     ]
    }
   ],
   "source": [
    "# Evaluate\n",
    "test_loss, test_accuracy = model_lenet5.evaluate(test_rescale_ds, verbose=0)\n",
    "print(f\"\\nVariant 2 - Increased Filters\")\n",
    "print(f\"Test accuracy: {test_accuracy:}\")\n",
    "print(f\"Test loss: {test_loss:.4f}\")"
   ]
  },
  {
   "cell_type": "code",
   "execution_count": 25,
   "id": "97d50209-9d8e-4008-8da8-2c745739d3ed",
   "metadata": {},
   "outputs": [
    {
     "name": "stdout",
     "output_type": "stream",
     "text": [
      "Model: \"sequential_5\"\n",
      "_________________________________________________________________\n",
      " Layer (type)                Output Shape              Param #   \n",
      "=================================================================\n",
      " conv2d_4 (Conv2D)           (None, 146, 146, 6)       456       \n",
      "                                                                 \n",
      " average_pooling2d_4 (Avera  (None, 73, 73, 6)         0         \n",
      " gePooling2D)                                                    \n",
      "                                                                 \n",
      " conv2d_5 (Conv2D)           (None, 69, 69, 16)        2416      \n",
      "                                                                 \n",
      " average_pooling2d_5 (Avera  (None, 34, 34, 16)        0         \n",
      " gePooling2D)                                                    \n",
      "                                                                 \n",
      " flatten_5 (Flatten)         (None, 18496)             0         \n",
      "                                                                 \n",
      " dense_15 (Dense)            (None, 256)               4735232   \n",
      "                                                                 \n",
      " dropout (Dropout)           (None, 256)               0         \n",
      "                                                                 \n",
      " dense_16 (Dense)            (None, 128)               32896     \n",
      "                                                                 \n",
      " dropout_1 (Dropout)         (None, 128)               0         \n",
      "                                                                 \n",
      " dense_17 (Dense)            (None, 2)                 258       \n",
      "                                                                 \n",
      "=================================================================\n",
      "Total params: 4771258 (18.20 MB)\n",
      "Trainable params: 4771258 (18.20 MB)\n",
      "Non-trainable params: 0 (0.00 Byte)\n",
      "_________________________________________________________________\n",
      "Epoch 1/20\n",
      "534/534 [==============================] - 81s 151ms/step - loss: 0.5804 - accuracy: 0.7185 - val_loss: 0.5980 - val_accuracy: 0.6904\n",
      "Epoch 2/20\n",
      "534/534 [==============================] - 81s 152ms/step - loss: 0.4602 - accuracy: 0.8007 - val_loss: 0.5001 - val_accuracy: 0.7711\n",
      "Epoch 3/20\n",
      "534/534 [==============================] - 81s 151ms/step - loss: 0.4159 - accuracy: 0.8229 - val_loss: 0.8029 - val_accuracy: 0.4719\n",
      "Epoch 4/20\n",
      "534/534 [==============================] - 81s 151ms/step - loss: 0.3784 - accuracy: 0.8411 - val_loss: 0.3803 - val_accuracy: 0.8295\n",
      "Epoch 5/20\n",
      "534/534 [==============================] - 80s 150ms/step - loss: 0.3443 - accuracy: 0.8547 - val_loss: 0.3145 - val_accuracy: 0.8698\n",
      "Epoch 6/20\n",
      "534/534 [==============================] - 82s 153ms/step - loss: 0.3144 - accuracy: 0.8678 - val_loss: 0.3550 - val_accuracy: 0.8450\n",
      "Epoch 7/20\n",
      "534/534 [==============================] - 81s 152ms/step - loss: 0.2922 - accuracy: 0.8789 - val_loss: 0.3335 - val_accuracy: 0.8637\n",
      "Epoch 8/20\n",
      "534/534 [==============================] - 81s 152ms/step - loss: 0.2756 - accuracy: 0.8881 - val_loss: 0.3290 - val_accuracy: 0.8508\n",
      "Epoch 9/20\n",
      "534/534 [==============================] - 81s 151ms/step - loss: 0.2501 - accuracy: 0.8986 - val_loss: 0.3059 - val_accuracy: 0.8698\n",
      "Epoch 10/20\n",
      "534/534 [==============================] - 80s 150ms/step - loss: 0.2323 - accuracy: 0.9060 - val_loss: 0.5966 - val_accuracy: 0.7359\n",
      "Epoch 11/20\n",
      "534/534 [==============================] - 80s 150ms/step - loss: 0.2123 - accuracy: 0.9187 - val_loss: 0.3016 - val_accuracy: 0.8851\n",
      "Epoch 12/20\n",
      "534/534 [==============================] - 80s 150ms/step - loss: 0.1959 - accuracy: 0.9240 - val_loss: 0.2564 - val_accuracy: 0.9062\n",
      "Epoch 13/20\n",
      "534/534 [==============================] - 80s 150ms/step - loss: 0.1810 - accuracy: 0.9353 - val_loss: 0.2677 - val_accuracy: 0.9017\n",
      "Epoch 14/20\n",
      "534/534 [==============================] - 80s 150ms/step - loss: 0.1683 - accuracy: 0.9367 - val_loss: 0.4760 - val_accuracy: 0.8351\n",
      "Epoch 15/20\n",
      "534/534 [==============================] - 80s 150ms/step - loss: 0.1567 - accuracy: 0.9441 - val_loss: 0.3236 - val_accuracy: 0.8834\n",
      "Epoch 16/20\n",
      "534/534 [==============================] - 80s 150ms/step - loss: 0.1402 - accuracy: 0.9505 - val_loss: 0.2819 - val_accuracy: 0.8989\n",
      "Epoch 17/20\n",
      "534/534 [==============================] - 80s 150ms/step - loss: 0.1247 - accuracy: 0.9566 - val_loss: 0.2983 - val_accuracy: 0.9013\n",
      "Epoch 18/20\n",
      "534/534 [==============================] - 81s 151ms/step - loss: 0.1135 - accuracy: 0.9603 - val_loss: 0.2539 - val_accuracy: 0.9118\n",
      "Epoch 19/20\n",
      "534/534 [==============================] - 80s 150ms/step - loss: 0.1042 - accuracy: 0.9634 - val_loss: 0.3340 - val_accuracy: 0.8973\n",
      "Epoch 20/20\n",
      "534/534 [==============================] - 80s 150ms/step - loss: 0.0939 - accuracy: 0.9684 - val_loss: 0.3079 - val_accuracy: 0.9085\n"
     ]
    }
   ],
   "source": [
    "import tensorflow as tf\n",
    "from tensorflow.keras import models, layers  # Following lab's import style\n",
    "from tensorflow.keras.optimizers import RMSprop\n",
    "import matplotlib.pyplot as plt\n",
    "\n",
    "\n",
    "#Variant 3: Keeps original filters but increases dense layers to 256 and 128, adding dropout (0.5) to reduce overfitting.\n",
    "\n",
    "# Define LeNet-5 with dropout and modified dense layers\n",
    "model_lenet5 = models.Sequential()\n",
    "\n",
    "# Layer 1\n",
    "model_lenet5.add(layers.Conv2D(6, kernel_size=(5, 5), activation='relu', input_shape=input_shape))\n",
    "model_lenet5.add(layers.AveragePooling2D(pool_size=(2, 2)))\n",
    "\n",
    "# Layer 2\n",
    "model_lenet5.add(layers.Conv2D(16, kernel_size=(5, 5), activation='relu'))\n",
    "model_lenet5.add(layers.AveragePooling2D(pool_size=(2, 2)))\n",
    "\n",
    "model_lenet5.add(layers.Flatten())  \n",
    "\n",
    "# Layer 3\n",
    "model_lenet5.add(layers.Dense(256, activation='relu'))\n",
    "model_lenet5.add(layers.Dropout(0.5))  # Added dropout\n",
    "\n",
    "# Layer 4\n",
    "model_lenet5.add(layers.Dense(128, activation='relu'))\n",
    "model_lenet5.add(layers.Dropout(0.5))  # Added dropout\n",
    "\n",
    "# Output layer\n",
    "model_lenet5.add(layers.Dense(num_classes, activation='softmax'))\n",
    "\n",
    "# Compile\n",
    "model_lenet5.compile(optimizer=RMSprop(learning_rate=1e-4),\n",
    "                     loss='sparse_categorical_crossentropy',\n",
    "                     metrics=['accuracy'])\n",
    "\n",
    "# Summary\n",
    "model_lenet5.summary()\n",
    "\n",
    "# Train\n",
    "history = model_lenet5.fit(\n",
    "    train_rescale_ds,\n",
    "    batch_size=32,\n",
    "    epochs=20,\n",
    "    validation_data=val_rescale_ds,\n",
    "    verbose=1\n",
    ")"
   ]
  },
  {
   "cell_type": "code",
   "execution_count": 26,
   "id": "6185eb4a-1937-4f60-ace3-7250b55b95fc",
   "metadata": {},
   "outputs": [
    {
     "name": "stdout",
     "output_type": "stream",
     "text": [
      "\n",
      "Variant 3 - Dropout and Modified Dense Layers\n",
      "Test accuracy: 0.9659\n",
      "Test loss: 0.1096\n"
     ]
    }
   ],
   "source": [
    "test_loss, test_accuracy = model_lenet5.evaluate(test_rescale_ds, verbose=0)\n",
    "print(f\"\\nVariant 3 - Dropout and Modified Dense Layers\")\n",
    "print(f\"Test accuracy: {test_accuracy:}\")\n",
    "print(f\"Test loss: {test_loss:.4f}\")"
   ]
  },
  {
   "cell_type": "code",
   "execution_count": 27,
   "id": "d8d38cbe-281f-4850-9685-3383d8af49db",
   "metadata": {},
   "outputs": [
    {
     "name": "stdout",
     "output_type": "stream",
     "text": [
      "Epoch 1/10\n",
      "534/534 [==============================] - 161s 300ms/step - loss: 0.5094 - accuracy: 0.7629\n",
      "Epoch 2/10\n",
      "534/534 [==============================] - 160s 300ms/step - loss: 0.3472 - accuracy: 0.8598\n",
      "Epoch 3/10\n",
      "534/534 [==============================] - 160s 299ms/step - loss: 0.2438 - accuracy: 0.9036\n",
      "Epoch 4/10\n",
      "534/534 [==============================] - 160s 299ms/step - loss: 0.1723 - accuracy: 0.9329\n",
      "Epoch 5/10\n",
      "534/534 [==============================] - 159s 298ms/step - loss: 0.1406 - accuracy: 0.9434\n",
      "Epoch 6/10\n",
      "534/534 [==============================] - 160s 299ms/step - loss: 0.1191 - accuracy: 0.9546\n",
      "Epoch 7/10\n",
      "534/534 [==============================] - 159s 298ms/step - loss: 0.1066 - accuracy: 0.9594\n",
      "Epoch 8/10\n",
      "534/534 [==============================] - 159s 298ms/step - loss: 0.0970 - accuracy: 0.9629\n",
      "Epoch 9/10\n",
      "534/534 [==============================] - 160s 299ms/step - loss: 0.0910 - accuracy: 0.9629\n",
      "Epoch 10/10\n",
      "534/534 [==============================] - 159s 298ms/step - loss: 0.0823 - accuracy: 0.9688\n"
     ]
    },
    {
     "data": {
      "text/plain": [
       "<keras.src.callbacks.History at 0x7c26bc2a0e50>"
      ]
     },
     "execution_count": 27,
     "metadata": {},
     "output_type": "execute_result"
    }
   ],
   "source": [
    "# adding alternate lenet-5 cnn\n",
    "import tensorflow as tf\n",
    "from tensorflow.keras import layers, models, optimizers\n",
    "\n",
    "model_alt_cnn = models.Sequential()\n",
    "\n",
    "# first block\n",
    "model_alt_cnn.add(layers.Conv2D(filters=32, kernel_size=(3,3), activation='relu'))\n",
    "model_alt_cnn.add(layers.MaxPooling2D(pool_size=(2,2)))\n",
    "\n",
    "# second block \n",
    "model_alt_cnn.add(layers.Conv2D(filters=64, kernel_size=(3,3), activation='relu'))\n",
    "model_alt_cnn.add(layers.MaxPooling2D(pool_size=(2,2)))\n",
    "\n",
    "# third block \n",
    "model_alt_cnn.add(layers.Conv2D(filters=128, kernel_size=(3,3), activation='relu'))\n",
    "model_alt_cnn.add(layers.MaxPooling2D(pool_size=(2,2)))\n",
    "\n",
    "# fourth block \n",
    "model_alt_cnn.add(layers.Conv2D(filters=128, kernel_size=(3,3), activation='relu'))\n",
    "model_alt_cnn.add(layers.MaxPooling2D(pool_size=(2,2)))\n",
    "\n",
    "# flattening\n",
    "model_alt_cnn.add(layers.Flatten())\n",
    "\n",
    "# dense layers \n",
    "model_alt_cnn.add(layers.Dense(512, activation='relu'))\n",
    "\n",
    "# output layer\n",
    "model_alt_cnn.add(layers.Dense(2, activation='softmax'))   # not sure what num to put\n",
    "\n",
    "model_alt_cnn.compile(optimizer=optimizers.RMSprop(learning_rate=1e-4), loss='sparse_categorical_crossentropy', metrics=['accuracy'])\n",
    "\n",
    "model_alt_cnn.fit(train_rescale_ds, batch_size=32, epochs=10)"
   ]
  },
  {
   "cell_type": "code",
   "execution_count": 28,
   "id": "89546942-f00a-4dea-bfdf-ae450417731e",
   "metadata": {},
   "outputs": [
    {
     "name": "stdout",
     "output_type": "stream",
     "text": [
      "Model: \"sequential_6\"\n",
      "_________________________________________________________________\n",
      " Layer (type)                Output Shape              Param #   \n",
      "=================================================================\n",
      " conv2d_6 (Conv2D)           (None, 148, 148, 32)      896       \n",
      "                                                                 \n",
      " max_pooling2d (MaxPooling2  (None, 74, 74, 32)        0         \n",
      " D)                                                              \n",
      "                                                                 \n",
      " conv2d_7 (Conv2D)           (None, 72, 72, 64)        18496     \n",
      "                                                                 \n",
      " max_pooling2d_1 (MaxPoolin  (None, 36, 36, 64)        0         \n",
      " g2D)                                                            \n",
      "                                                                 \n",
      " conv2d_8 (Conv2D)           (None, 34, 34, 128)       73856     \n",
      "                                                                 \n",
      " max_pooling2d_2 (MaxPoolin  (None, 17, 17, 128)       0         \n",
      " g2D)                                                            \n",
      "                                                                 \n",
      " conv2d_9 (Conv2D)           (None, 15, 15, 128)       147584    \n",
      "                                                                 \n",
      " max_pooling2d_3 (MaxPoolin  (None, 7, 7, 128)         0         \n",
      " g2D)                                                            \n",
      "                                                                 \n",
      " flatten_6 (Flatten)         (None, 6272)              0         \n",
      "                                                                 \n",
      " dense_18 (Dense)            (None, 512)               3211776   \n",
      "                                                                 \n",
      " dense_19 (Dense)            (None, 2)                 1026      \n",
      "                                                                 \n",
      "=================================================================\n",
      "Total params: 3453634 (13.17 MB)\n",
      "Trainable params: 3453634 (13.17 MB)\n",
      "Non-trainable params: 0 (0.00 Byte)\n",
      "_________________________________________________________________\n",
      "Alternate Lenet-5 CNN accuracy: 0.9425222873687744\n"
     ]
    }
   ],
   "source": [
    "model_alt_cnn.summary()\n",
    "test_loss, test_accuracy = model_alt_cnn.evaluate(test_rescale_ds, verbose=0)\n",
    "print(\"Alternate Lenet-5 CNN accuracy:\", test_accuracy)"
   ]
  },
  {
   "cell_type": "code",
   "execution_count": 29,
   "id": "95c6e6a8-8f91-470a-948a-93892c425314",
   "metadata": {},
   "outputs": [
    {
     "name": "stdout",
     "output_type": "stream",
     "text": [
      "Epoch 1/20\n",
      "534/534 [==============================] - 160s 298ms/step - loss: 0.5028 - accuracy: 0.7677\n",
      "Epoch 2/20\n",
      "534/534 [==============================] - 159s 298ms/step - loss: 0.3495 - accuracy: 0.8573\n",
      "Epoch 3/20\n",
      "534/534 [==============================] - 160s 299ms/step - loss: 0.2554 - accuracy: 0.9012\n",
      "Epoch 4/20\n",
      "534/534 [==============================] - 160s 299ms/step - loss: 0.1898 - accuracy: 0.9261\n",
      "Epoch 5/20\n",
      "534/534 [==============================] - 160s 299ms/step - loss: 0.1523 - accuracy: 0.9413\n",
      "Epoch 6/20\n",
      "534/534 [==============================] - 160s 299ms/step - loss: 0.1286 - accuracy: 0.9482\n",
      "Epoch 7/20\n",
      "534/534 [==============================] - 160s 299ms/step - loss: 0.1142 - accuracy: 0.9540\n",
      "Epoch 8/20\n",
      "534/534 [==============================] - 160s 299ms/step - loss: 0.1019 - accuracy: 0.9603\n",
      "Epoch 9/20\n",
      "534/534 [==============================] - 159s 297ms/step - loss: 0.0932 - accuracy: 0.9630\n",
      "Epoch 10/20\n",
      "534/534 [==============================] - 158s 297ms/step - loss: 0.0889 - accuracy: 0.9670\n",
      "Epoch 11/20\n",
      "534/534 [==============================] - 159s 297ms/step - loss: 0.0806 - accuracy: 0.9698\n",
      "Epoch 12/20\n",
      "534/534 [==============================] - 158s 296ms/step - loss: 0.0749 - accuracy: 0.9727\n",
      "Epoch 13/20\n",
      "534/534 [==============================] - 159s 297ms/step - loss: 0.0692 - accuracy: 0.9738\n",
      "Epoch 14/20\n",
      "534/534 [==============================] - 159s 297ms/step - loss: 0.0657 - accuracy: 0.9747\n",
      "Epoch 15/20\n",
      "534/534 [==============================] - 159s 297ms/step - loss: 0.0587 - accuracy: 0.9785\n",
      "Epoch 16/20\n",
      "534/534 [==============================] - 158s 296ms/step - loss: 0.0546 - accuracy: 0.9803\n",
      "Epoch 17/20\n",
      "534/534 [==============================] - 158s 296ms/step - loss: 0.0507 - accuracy: 0.9811\n",
      "Epoch 18/20\n",
      "534/534 [==============================] - 158s 296ms/step - loss: 0.0489 - accuracy: 0.9824\n",
      "Epoch 19/20\n",
      "534/534 [==============================] - 159s 298ms/step - loss: 0.0427 - accuracy: 0.9845\n",
      "Epoch 20/20\n",
      "534/534 [==============================] - 159s 298ms/step - loss: 0.0391 - accuracy: 0.9865\n"
     ]
    },
    {
     "data": {
      "text/plain": [
       "<keras.src.callbacks.History at 0x7c26b13c9cd0>"
      ]
     },
     "execution_count": 29,
     "metadata": {},
     "output_type": "execute_result"
    }
   ],
   "source": [
    "# adding alternate lenet-5 cnn\n",
    "import tensorflow as tf\n",
    "from tensorflow.keras import layers, models, optimizers\n",
    "\n",
    "model_alt_cnn2 = models.Sequential()\n",
    "\n",
    "# first block\n",
    "model_alt_cnn2.add(layers.Conv2D(filters=32, kernel_size=(3,3), activation='relu'))\n",
    "model_alt_cnn2.add(layers.MaxPooling2D(pool_size=(2,2)))\n",
    "\n",
    "# second block \n",
    "model_alt_cnn2.add(layers.Conv2D(filters=64, kernel_size=(3,3), activation='relu'))\n",
    "model_alt_cnn2.add(layers.MaxPooling2D(pool_size=(2,2)))\n",
    "\n",
    "# third block \n",
    "model_alt_cnn2.add(layers.Conv2D(filters=128, kernel_size=(3,3), activation='relu'))\n",
    "model_alt_cnn2.add(layers.MaxPooling2D(pool_size=(2,2)))\n",
    "\n",
    "# fourth block \n",
    "model_alt_cnn2.add(layers.Conv2D(filters=128, kernel_size=(3,3), activation='relu'))\n",
    "model_alt_cnn2.add(layers.MaxPooling2D(pool_size=(2,2)))\n",
    "\n",
    "# flattening\n",
    "model_alt_cnn2.add(layers.Flatten())\n",
    "\n",
    "# dense layers \n",
    "model_alt_cnn2.add(layers.Dense(512, activation='relu'))\n",
    "\n",
    "# output layer\n",
    "model_alt_cnn2.add(layers.Dense(2, activation='softmax'))   # not sure what num to put\n",
    "\n",
    "model_alt_cnn2.compile(optimizer=optimizers.RMSprop(learning_rate=1e-4), loss='sparse_categorical_crossentropy', metrics=['accuracy'])\n",
    "\n",
    "model_alt_cnn2.fit(train_rescale_ds, batch_size=32, epochs=20)"
   ]
  },
  {
   "cell_type": "code",
   "execution_count": 30,
   "id": "2fd8ea54-7de1-40b8-98a3-4560252f1b27",
   "metadata": {},
   "outputs": [
    {
     "name": "stdout",
     "output_type": "stream",
     "text": [
      "Model: \"sequential_7\"\n",
      "_________________________________________________________________\n",
      " Layer (type)                Output Shape              Param #   \n",
      "=================================================================\n",
      " conv2d_10 (Conv2D)          (None, 148, 148, 32)      896       \n",
      "                                                                 \n",
      " max_pooling2d_4 (MaxPoolin  (None, 74, 74, 32)        0         \n",
      " g2D)                                                            \n",
      "                                                                 \n",
      " conv2d_11 (Conv2D)          (None, 72, 72, 64)        18496     \n",
      "                                                                 \n",
      " max_pooling2d_5 (MaxPoolin  (None, 36, 36, 64)        0         \n",
      " g2D)                                                            \n",
      "                                                                 \n",
      " conv2d_12 (Conv2D)          (None, 34, 34, 128)       73856     \n",
      "                                                                 \n",
      " max_pooling2d_6 (MaxPoolin  (None, 17, 17, 128)       0         \n",
      " g2D)                                                            \n",
      "                                                                 \n",
      " conv2d_13 (Conv2D)          (None, 15, 15, 128)       147584    \n",
      "                                                                 \n",
      " max_pooling2d_7 (MaxPoolin  (None, 7, 7, 128)         0         \n",
      " g2D)                                                            \n",
      "                                                                 \n",
      " flatten_7 (Flatten)         (None, 6272)              0         \n",
      "                                                                 \n",
      " dense_20 (Dense)            (None, 512)               3211776   \n",
      "                                                                 \n",
      " dense_21 (Dense)            (None, 2)                 1026      \n",
      "                                                                 \n",
      "=================================================================\n",
      "Total params: 3453634 (13.17 MB)\n",
      "Trainable params: 3453634 (13.17 MB)\n",
      "Non-trainable params: 0 (0.00 Byte)\n",
      "_________________________________________________________________\n",
      "Alternate Lenet-5 CNN accuracy: 0.9877162575721741\n"
     ]
    }
   ],
   "source": [
    "model_alt_cnn2.summary()\n",
    "test_loss, test_accuracy = model_alt_cnn2.evaluate(test_rescale_ds, verbose=0)\n",
    "print(\"Alternate Lenet-5 CNN accuracy:\", test_accuracy)"
   ]
  },
  {
   "cell_type": "code",
   "execution_count": 31,
   "id": "a5538891-391c-432f-ad26-e3a32b3f830a",
   "metadata": {},
   "outputs": [],
   "source": [
    "model_alt_cnn2.save('./models/model_alt_cnn2.keras')"
   ]
  }
 ],
 "metadata": {
  "kernelspec": {
   "display_name": "Python 3 (ipykernel)",
   "language": "python",
   "name": "python3"
  },
  "language_info": {
   "codemirror_mode": {
    "name": "ipython",
    "version": 3
   },
   "file_extension": ".py",
   "mimetype": "text/x-python",
   "name": "python",
   "nbconvert_exporter": "python",
   "pygments_lexer": "ipython3",
   "version": "3.11.1"
  }
 },
 "nbformat": 4,
 "nbformat_minor": 5
}
